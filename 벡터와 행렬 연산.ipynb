{
 "cells": [
  {
   "cell_type": "markdown",
   "id": "035100fc",
   "metadata": {},
   "source": [
    "## 벡터와 행렬 연산\n",
    "\n",
    "### 벡터와 행렬과 텐서\n",
    "\n",
    "- 벡터는 크기와 방향을 가진 양.\n",
    "- 숫자가 나열된 형상이며 파이썬에서는 1차원 배열 또는 리스트로 표현.\n",
    "- 행렬은 행과 열을 가지는 2차원 형상을 가진 구조. 파이썬에서는 2차원 배열로 표현.\n",
    "- 가로줄을 행(row)라고 하며, 세로줄을 열(column)이라고 함.\n",
    "- 3차원부터는 주로 텐서라고 부름. 텐서는 파이썬에서는 3차원 이상의 배열로 표현."
   ]
  },
  {
   "cell_type": "markdown",
   "id": "eeb5c680",
   "metadata": {},
   "source": [
    "### 텐서\n",
    "\n",
    "- 인공 신경망은 복잡한 모델 내의 연산을 주로 행렬 연산을 통해 해결 가능."
   ]
  },
  {
   "cell_type": "markdown",
   "id": "81b5e93b",
   "metadata": {},
   "source": [
    "#### 0차원 텐서(스칼라)\n",
    "\n",
    "- 스칼라는 하나의 실수값으로 이루어진 데이터. 이를 0차원 텐서라고 함."
   ]
  },
  {
   "cell_type": "code",
   "execution_count": 2,
   "id": "61a7faa6",
   "metadata": {},
   "outputs": [
    {
     "name": "stdout",
     "output_type": "stream",
     "text": [
      "텐서의 차원 :  0\n",
      "텐서의 크기(shape) :  ()\n"
     ]
    }
   ],
   "source": [
    "import numpy as np\n",
    "\n",
    "d = np.array(5)\n",
    "\n",
    "print('텐서의 차원 : ', d.ndim)\n",
    "print('텐서의 크기(shape) : ', d.shape)"
   ]
  },
  {
   "cell_type": "markdown",
   "id": "0279857b",
   "metadata": {},
   "source": [
    "- Numpy의 ndim을 출력했을 때 나오는 값에 주목.\n",
    "- ndim을 출력했을 때 나오는 값을 축(axis)의 개수 또는 텐서의 차원이라고 부름."
   ]
  },
  {
   "cell_type": "markdown",
   "id": "1222a29c",
   "metadata": {},
   "source": [
    "#### 1차원 텐서(벡터)\n",
    "\n",
    "- 숫자를 배열한 것을 벡터라고 함. 벡터는 1차원 텐서임."
   ]
  },
  {
   "cell_type": "code",
   "execution_count": 3,
   "id": "e3449c46",
   "metadata": {},
   "outputs": [
    {
     "name": "stdout",
     "output_type": "stream",
     "text": [
      "텐서의 차원 :  1\n",
      "텐서의 크기(shape) :  (4,)\n"
     ]
    }
   ],
   "source": [
    "d = np.array([1, 2, 3, 4])\n",
    "print('텐서의 차원 : ', d.ndim)\n",
    "print('텐서의 크기(shape) : ', d.shape)"
   ]
  },
  {
   "cell_type": "markdown",
   "id": "471f0a33",
   "metadata": {},
   "source": [
    "- 벡터에서의 차원은 하나의 축에 놓인 원소의 개수를 의미하는 것이고, 텐서에서의 차원은 축의 개수를 의미."
   ]
  },
  {
   "cell_type": "markdown",
   "id": "a43144b4",
   "metadata": {},
   "source": [
    "#### 2차원 텐서(행렬)\n",
    "\n",
    "- 행과 열이 존재하는 벡터의 배열. 즉 행렬(matrix)을 2차원 텐서라고 함."
   ]
  },
  {
   "cell_type": "code",
   "execution_count": 4,
   "id": "b7b00480",
   "metadata": {},
   "outputs": [
    {
     "name": "stdout",
     "output_type": "stream",
     "text": [
      "텐서의 차원 :  2\n",
      "텐서의 크기(shape) :  (3, 4)\n"
     ]
    }
   ],
   "source": [
    "# 3행 4열의 행렬\n",
    "\n",
    "d = np.array([[1, 2, 3, 4], [5, 6, 7, 8], [9, 10, 11, 12]])\n",
    "print('텐서의 차원 : ', d.ndim)\n",
    "print('텐서의 크기(shape) : ', d.shape)"
   ]
  },
  {
   "cell_type": "markdown",
   "id": "b9b051cb",
   "metadata": {},
   "source": [
    "- 텐서의 크기란, 각 축을 따라서 얼마나 많은 차원이 있는지를 나타낸 값.\n",
    "- 위의 경우 3개의 커다란 데이터가 있는데 그 각각의 커다란 데이터는 작은 데이터 4개로 이루어져있다고 생각할 수 있음."
   ]
  },
  {
   "cell_type": "markdown",
   "id": "566ee7b5",
   "metadata": {},
   "source": [
    "#### 3차원 텐서(다차원 배열)\n",
    "\n",
    "- 행렬 또는 2차원 텐서를 단위로 한 번 더 배열하면 3차원 텐서라고 부름."
   ]
  },
  {
   "cell_type": "code",
   "execution_count": 5,
   "id": "5cba772b",
   "metadata": {},
   "outputs": [
    {
     "name": "stdout",
     "output_type": "stream",
     "text": [
      "텐서의 차원 :  3\n",
      "텐서의 크기(shape) :  (2, 3, 5)\n"
     ]
    }
   ],
   "source": [
    "d = np.array([\n",
    "    [[1, 2, 3, 4, 5], [6, 7, 8, 9, 10], [10, 11, 12, 13, 14]],\n",
    "    [[15, 16, 17, 18, 19], [19, 20, 21, 22, 23], [23, 24, 25, 26, 27]]\n",
    "])\n",
    "\n",
    "print('텐서의 차원 : ', d.ndim)\n",
    "print('텐서의 크기(shape) : ', d.shape)"
   ]
  },
  {
   "cell_type": "markdown",
   "id": "6d15b9a2",
   "metadata": {},
   "source": [
    "- 자연어 처리에서 자주 보게 되는 것이 3차원 텐서임.\n",
    "- 3차원 텐서는 시퀀스 데이터를 표현할 때 자주 사용됨.\n",
    "- 시퀀스 데이터는 주로 단어의 시퀀스를 의미하며, 시퀀스는 주로 문장이나 문서, 뉴스 기사 등의 텍스트가 될 수 있음.\n",
    "- 이 경우 3차원 텐서가 됨."
   ]
  },
  {
   "cell_type": "markdown",
   "id": "7defd825",
   "metadata": {},
   "source": [
    "### 벡터와 행렬의 덧셈과 뺄셈"
   ]
  },
  {
   "cell_type": "code",
   "execution_count": 6,
   "id": "be87be9c",
   "metadata": {},
   "outputs": [
    {
     "name": "stdout",
     "output_type": "stream",
     "text": [
      "두 벡터의 합 :  [9 6 8]\n",
      "두 벡터의 차 :  [7 2 2]\n"
     ]
    }
   ],
   "source": [
    "A = np.array([8, 4, 5])\n",
    "B = np.array([1, 2, 3])\n",
    "\n",
    "print('두 벡터의 합 : ', A+B)\n",
    "print('두 벡터의 차 : ', A-B)"
   ]
  },
  {
   "cell_type": "code",
   "execution_count": 7,
   "id": "c667e325",
   "metadata": {},
   "outputs": [
    {
     "name": "stdout",
     "output_type": "stream",
     "text": [
      "두 행렬의 합 : \n",
      "[[15 26 37 48]\n",
      " [51 62 73 84]]\n",
      "두 행렬의 차 : \n",
      "[[ 5 14 23 32]\n",
      " [49 58 67 76]]\n"
     ]
    }
   ],
   "source": [
    "A = np.array([[10, 20, 30, 40], [50, 60, 70, 80]])\n",
    "B = np.array([[5, 6, 7, 8], [1, 2, 3, 4]])\n",
    "\n",
    "print('두 행렬의 합 : ')\n",
    "print(A + B)\n",
    "print('두 행렬의 차 : ')\n",
    "print(A - B)"
   ]
  },
  {
   "cell_type": "markdown",
   "id": "e8aadb7c",
   "metadata": {},
   "source": [
    "### 벡터의 내적과 행렬의 곱셈"
   ]
  },
  {
   "cell_type": "code",
   "execution_count": 8,
   "id": "1a716964",
   "metadata": {},
   "outputs": [
    {
     "name": "stdout",
     "output_type": "stream",
     "text": [
      "두 벡터의 내적 :  32\n"
     ]
    }
   ],
   "source": [
    "A = np.array([1, 2, 3])\n",
    "B = np.array([4, 5, 6])\n",
    "\n",
    "print('두 벡터의 내적 : ', np.dot(A, B))"
   ]
  },
  {
   "cell_type": "code",
   "execution_count": 9,
   "id": "828e04c3",
   "metadata": {},
   "outputs": [
    {
     "name": "stdout",
     "output_type": "stream",
     "text": [
      "두 행렬의 행렬곱 : \n",
      "[[23 31]\n",
      " [34 46]]\n"
     ]
    }
   ],
   "source": [
    "A = np.array([[1, 3], [2, 4]])\n",
    "B = np.array([[5, 7], [6, 8]])\n",
    "\n",
    "print('두 행렬의 행렬곱 : ')\n",
    "print(np.matmul(A, B))"
   ]
  },
  {
   "cell_type": "code",
   "execution_count": null,
   "id": "7ea1c3c3",
   "metadata": {},
   "outputs": [],
   "source": []
  }
 ],
 "metadata": {
  "kernelspec": {
   "display_name": "Python 3",
   "language": "python",
   "name": "python3"
  },
  "language_info": {
   "codemirror_mode": {
    "name": "ipython",
    "version": 3
   },
   "file_extension": ".py",
   "mimetype": "text/x-python",
   "name": "python",
   "nbconvert_exporter": "python",
   "pygments_lexer": "ipython3",
   "version": "3.8.8"
  },
  "toc": {
   "base_numbering": 1,
   "nav_menu": {},
   "number_sections": true,
   "sideBar": true,
   "skip_h1_title": false,
   "title_cell": "Table of Contents",
   "title_sidebar": "Contents",
   "toc_cell": false,
   "toc_position": {},
   "toc_section_display": true,
   "toc_window_display": false
  }
 },
 "nbformat": 4,
 "nbformat_minor": 5
}
