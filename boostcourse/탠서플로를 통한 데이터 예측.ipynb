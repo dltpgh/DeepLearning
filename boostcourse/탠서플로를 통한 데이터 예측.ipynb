{
 "cells": [
  {
   "cell_type": "code",
   "execution_count": 1,
   "id": "b8ec7ac3",
   "metadata": {},
   "outputs": [],
   "source": [
    "import pandas as pd\n",
    "import numpy as np\n",
    "import seaborn as sns\n",
    "import matplotlib.pyplot as plt"
   ]
  },
  {
   "cell_type": "markdown",
   "id": "8919ae0b",
   "metadata": {},
   "source": [
    "### 데이터셋 로드"
   ]
  },
  {
   "cell_type": "code",
   "execution_count": 2,
   "id": "f305eaa0",
   "metadata": {},
   "outputs": [
    {
     "data": {
      "text/plain": [
       "(398, 9)"
      ]
     },
     "execution_count": 2,
     "metadata": {},
     "output_type": "execute_result"
    }
   ],
   "source": [
    "data = sns.load_dataset('mpg')\n",
    "data.shape"
   ]
  },
  {
   "cell_type": "code",
   "execution_count": 3,
   "id": "32705def",
   "metadata": {},
   "outputs": [
    {
     "data": {
      "text/html": [
       "<div>\n",
       "<style scoped>\n",
       "    .dataframe tbody tr th:only-of-type {\n",
       "        vertical-align: middle;\n",
       "    }\n",
       "\n",
       "    .dataframe tbody tr th {\n",
       "        vertical-align: top;\n",
       "    }\n",
       "\n",
       "    .dataframe thead th {\n",
       "        text-align: right;\n",
       "    }\n",
       "</style>\n",
       "<table border=\"1\" class=\"dataframe\">\n",
       "  <thead>\n",
       "    <tr style=\"text-align: right;\">\n",
       "      <th></th>\n",
       "      <th>mpg</th>\n",
       "      <th>cylinders</th>\n",
       "      <th>displacement</th>\n",
       "      <th>horsepower</th>\n",
       "      <th>weight</th>\n",
       "      <th>acceleration</th>\n",
       "      <th>model_year</th>\n",
       "      <th>origin</th>\n",
       "      <th>name</th>\n",
       "    </tr>\n",
       "  </thead>\n",
       "  <tbody>\n",
       "    <tr>\n",
       "      <th>0</th>\n",
       "      <td>18.0</td>\n",
       "      <td>8</td>\n",
       "      <td>307.0</td>\n",
       "      <td>130.0</td>\n",
       "      <td>3504</td>\n",
       "      <td>12.0</td>\n",
       "      <td>70</td>\n",
       "      <td>usa</td>\n",
       "      <td>chevrolet chevelle malibu</td>\n",
       "    </tr>\n",
       "    <tr>\n",
       "      <th>1</th>\n",
       "      <td>15.0</td>\n",
       "      <td>8</td>\n",
       "      <td>350.0</td>\n",
       "      <td>165.0</td>\n",
       "      <td>3693</td>\n",
       "      <td>11.5</td>\n",
       "      <td>70</td>\n",
       "      <td>usa</td>\n",
       "      <td>buick skylark 320</td>\n",
       "    </tr>\n",
       "    <tr>\n",
       "      <th>2</th>\n",
       "      <td>18.0</td>\n",
       "      <td>8</td>\n",
       "      <td>318.0</td>\n",
       "      <td>150.0</td>\n",
       "      <td>3436</td>\n",
       "      <td>11.0</td>\n",
       "      <td>70</td>\n",
       "      <td>usa</td>\n",
       "      <td>plymouth satellite</td>\n",
       "    </tr>\n",
       "    <tr>\n",
       "      <th>3</th>\n",
       "      <td>16.0</td>\n",
       "      <td>8</td>\n",
       "      <td>304.0</td>\n",
       "      <td>150.0</td>\n",
       "      <td>3433</td>\n",
       "      <td>12.0</td>\n",
       "      <td>70</td>\n",
       "      <td>usa</td>\n",
       "      <td>amc rebel sst</td>\n",
       "    </tr>\n",
       "    <tr>\n",
       "      <th>4</th>\n",
       "      <td>17.0</td>\n",
       "      <td>8</td>\n",
       "      <td>302.0</td>\n",
       "      <td>140.0</td>\n",
       "      <td>3449</td>\n",
       "      <td>10.5</td>\n",
       "      <td>70</td>\n",
       "      <td>usa</td>\n",
       "      <td>ford torino</td>\n",
       "    </tr>\n",
       "  </tbody>\n",
       "</table>\n",
       "</div>"
      ],
      "text/plain": [
       "    mpg  cylinders  displacement  horsepower  weight  acceleration  \\\n",
       "0  18.0          8         307.0       130.0    3504          12.0   \n",
       "1  15.0          8         350.0       165.0    3693          11.5   \n",
       "2  18.0          8         318.0       150.0    3436          11.0   \n",
       "3  16.0          8         304.0       150.0    3433          12.0   \n",
       "4  17.0          8         302.0       140.0    3449          10.5   \n",
       "\n",
       "   model_year origin                       name  \n",
       "0          70    usa  chevrolet chevelle malibu  \n",
       "1          70    usa          buick skylark 320  \n",
       "2          70    usa         plymouth satellite  \n",
       "3          70    usa              amc rebel sst  \n",
       "4          70    usa                ford torino  "
      ]
     },
     "execution_count": 3,
     "metadata": {},
     "output_type": "execute_result"
    }
   ],
   "source": [
    "data.head()"
   ]
  },
  {
   "cell_type": "code",
   "execution_count": 4,
   "id": "ef61839f",
   "metadata": {},
   "outputs": [
    {
     "data": {
      "text/plain": [
       "mpg             0\n",
       "cylinders       0\n",
       "displacement    0\n",
       "horsepower      6\n",
       "weight          0\n",
       "acceleration    0\n",
       "model_year      0\n",
       "origin          0\n",
       "name            0\n",
       "dtype: int64"
      ]
     },
     "execution_count": 4,
     "metadata": {},
     "output_type": "execute_result"
    }
   ],
   "source": [
    "# 결측치의 합계\n",
    "\n",
    "data.isna().sum()"
   ]
  },
  {
   "cell_type": "markdown",
   "id": "02710a4a",
   "metadata": {},
   "source": [
    "### 결측치 제거"
   ]
  },
  {
   "cell_type": "code",
   "execution_count": 5,
   "id": "e9c3b029",
   "metadata": {},
   "outputs": [
    {
     "data": {
      "text/plain": [
       "(392, 9)"
      ]
     },
     "execution_count": 5,
     "metadata": {},
     "output_type": "execute_result"
    }
   ],
   "source": [
    "data = data.dropna()\n",
    "data.shape"
   ]
  },
  {
   "cell_type": "markdown",
   "id": "f6c769c3",
   "metadata": {},
   "source": [
    "### 수치 데이터만 가져오기\n",
    "\n",
    "- 머신러닝이나 딥러닝 모델은 내부에서 수치계산을 하기 때문에 숫자가 아닌 데이터를 넣어주면 모델이 학습과 예측을 할 수 없음."
   ]
  },
  {
   "cell_type": "code",
   "execution_count": 6,
   "id": "5b988b4a",
   "metadata": {},
   "outputs": [
    {
     "data": {
      "text/plain": [
       "(392, 7)"
      ]
     },
     "execution_count": 6,
     "metadata": {},
     "output_type": "execute_result"
    }
   ],
   "source": [
    "# select_dtypes를 통해 object 타입을 제외하고 가져옴\n",
    "\n",
    "data = data.select_dtypes(exclude = 'object')\n",
    "data.shape"
   ]
  },
  {
   "cell_type": "markdown",
   "id": "555849e3",
   "metadata": {},
   "source": [
    "### 전체 데이터에 대한 기술 통계 확인"
   ]
  },
  {
   "cell_type": "code",
   "execution_count": 7,
   "id": "c90ea56e",
   "metadata": {},
   "outputs": [
    {
     "data": {
      "text/html": [
       "<div>\n",
       "<style scoped>\n",
       "    .dataframe tbody tr th:only-of-type {\n",
       "        vertical-align: middle;\n",
       "    }\n",
       "\n",
       "    .dataframe tbody tr th {\n",
       "        vertical-align: top;\n",
       "    }\n",
       "\n",
       "    .dataframe thead th {\n",
       "        text-align: right;\n",
       "    }\n",
       "</style>\n",
       "<table border=\"1\" class=\"dataframe\">\n",
       "  <thead>\n",
       "    <tr style=\"text-align: right;\">\n",
       "      <th></th>\n",
       "      <th>mpg</th>\n",
       "      <th>cylinders</th>\n",
       "      <th>displacement</th>\n",
       "      <th>horsepower</th>\n",
       "      <th>weight</th>\n",
       "      <th>acceleration</th>\n",
       "      <th>model_year</th>\n",
       "    </tr>\n",
       "  </thead>\n",
       "  <tbody>\n",
       "    <tr>\n",
       "      <th>count</th>\n",
       "      <td>392.000000</td>\n",
       "      <td>392.000000</td>\n",
       "      <td>392.000000</td>\n",
       "      <td>392.000000</td>\n",
       "      <td>392.000000</td>\n",
       "      <td>392.000000</td>\n",
       "      <td>392.000000</td>\n",
       "    </tr>\n",
       "    <tr>\n",
       "      <th>mean</th>\n",
       "      <td>23.445918</td>\n",
       "      <td>5.471939</td>\n",
       "      <td>194.411990</td>\n",
       "      <td>104.469388</td>\n",
       "      <td>2977.584184</td>\n",
       "      <td>15.541327</td>\n",
       "      <td>75.979592</td>\n",
       "    </tr>\n",
       "    <tr>\n",
       "      <th>std</th>\n",
       "      <td>7.805007</td>\n",
       "      <td>1.705783</td>\n",
       "      <td>104.644004</td>\n",
       "      <td>38.491160</td>\n",
       "      <td>849.402560</td>\n",
       "      <td>2.758864</td>\n",
       "      <td>3.683737</td>\n",
       "    </tr>\n",
       "    <tr>\n",
       "      <th>min</th>\n",
       "      <td>9.000000</td>\n",
       "      <td>3.000000</td>\n",
       "      <td>68.000000</td>\n",
       "      <td>46.000000</td>\n",
       "      <td>1613.000000</td>\n",
       "      <td>8.000000</td>\n",
       "      <td>70.000000</td>\n",
       "    </tr>\n",
       "    <tr>\n",
       "      <th>25%</th>\n",
       "      <td>17.000000</td>\n",
       "      <td>4.000000</td>\n",
       "      <td>105.000000</td>\n",
       "      <td>75.000000</td>\n",
       "      <td>2225.250000</td>\n",
       "      <td>13.775000</td>\n",
       "      <td>73.000000</td>\n",
       "    </tr>\n",
       "    <tr>\n",
       "      <th>50%</th>\n",
       "      <td>22.750000</td>\n",
       "      <td>4.000000</td>\n",
       "      <td>151.000000</td>\n",
       "      <td>93.500000</td>\n",
       "      <td>2803.500000</td>\n",
       "      <td>15.500000</td>\n",
       "      <td>76.000000</td>\n",
       "    </tr>\n",
       "    <tr>\n",
       "      <th>75%</th>\n",
       "      <td>29.000000</td>\n",
       "      <td>8.000000</td>\n",
       "      <td>275.750000</td>\n",
       "      <td>126.000000</td>\n",
       "      <td>3614.750000</td>\n",
       "      <td>17.025000</td>\n",
       "      <td>79.000000</td>\n",
       "    </tr>\n",
       "    <tr>\n",
       "      <th>max</th>\n",
       "      <td>46.600000</td>\n",
       "      <td>8.000000</td>\n",
       "      <td>455.000000</td>\n",
       "      <td>230.000000</td>\n",
       "      <td>5140.000000</td>\n",
       "      <td>24.800000</td>\n",
       "      <td>82.000000</td>\n",
       "    </tr>\n",
       "  </tbody>\n",
       "</table>\n",
       "</div>"
      ],
      "text/plain": [
       "              mpg   cylinders  displacement  horsepower       weight  \\\n",
       "count  392.000000  392.000000    392.000000  392.000000   392.000000   \n",
       "mean    23.445918    5.471939    194.411990  104.469388  2977.584184   \n",
       "std      7.805007    1.705783    104.644004   38.491160   849.402560   \n",
       "min      9.000000    3.000000     68.000000   46.000000  1613.000000   \n",
       "25%     17.000000    4.000000    105.000000   75.000000  2225.250000   \n",
       "50%     22.750000    4.000000    151.000000   93.500000  2803.500000   \n",
       "75%     29.000000    8.000000    275.750000  126.000000  3614.750000   \n",
       "max     46.600000    8.000000    455.000000  230.000000  5140.000000   \n",
       "\n",
       "       acceleration  model_year  \n",
       "count    392.000000  392.000000  \n",
       "mean      15.541327   75.979592  \n",
       "std        2.758864    3.683737  \n",
       "min        8.000000   70.000000  \n",
       "25%       13.775000   73.000000  \n",
       "50%       15.500000   76.000000  \n",
       "75%       17.025000   79.000000  \n",
       "max       24.800000   82.000000  "
      ]
     },
     "execution_count": 7,
     "metadata": {},
     "output_type": "execute_result"
    }
   ],
   "source": [
    "data.describe(include = 'all')"
   ]
  },
  {
   "cell_type": "markdown",
   "id": "d8cb470a",
   "metadata": {},
   "source": [
    "### 데이터셋 나누기"
   ]
  },
  {
   "cell_type": "code",
   "execution_count": 8,
   "id": "4f49de06",
   "metadata": {},
   "outputs": [
    {
     "data": {
      "text/plain": [
       "(314, 7)"
      ]
     },
     "execution_count": 8,
     "metadata": {},
     "output_type": "execute_result"
    }
   ],
   "source": [
    "# train_dataset : 학습에 사용\n",
    "# test_dataset : 실제 예측에 사용\n",
    "\n",
    "train_dataset = data.sample(frac = 0.8, random_state = 42)\n",
    "train_dataset.shape"
   ]
  },
  {
   "cell_type": "code",
   "execution_count": 9,
   "id": "236f6acd",
   "metadata": {},
   "outputs": [
    {
     "data": {
      "text/plain": [
       "(78, 7)"
      ]
     },
     "execution_count": 9,
     "metadata": {},
     "output_type": "execute_result"
    }
   ],
   "source": [
    "test_dataset = data.drop(train_dataset.index)\n",
    "test_dataset.shape"
   ]
  },
  {
   "cell_type": "markdown",
   "id": "79959952",
   "metadata": {},
   "source": [
    "### target 추출"
   ]
  },
  {
   "cell_type": "code",
   "execution_count": 10,
   "id": "88e443e7",
   "metadata": {},
   "outputs": [
    {
     "data": {
      "text/plain": [
       "(314,)"
      ]
     },
     "execution_count": 10,
     "metadata": {},
     "output_type": "execute_result"
    }
   ],
   "source": [
    "train_labels = train_dataset.pop('mpg')\n",
    "train_labels.shape"
   ]
  },
  {
   "cell_type": "code",
   "execution_count": 11,
   "id": "f776c2f1",
   "metadata": {},
   "outputs": [
    {
     "data": {
      "text/plain": [
       "(78,)"
      ]
     },
     "execution_count": 11,
     "metadata": {},
     "output_type": "execute_result"
    }
   ],
   "source": [
    "test_labels = test_dataset.pop('mpg')\n",
    "test_labels.shape"
   ]
  },
  {
   "cell_type": "code",
   "execution_count": 12,
   "id": "83a63dc4",
   "metadata": {},
   "outputs": [
    {
     "data": {
      "text/plain": [
       "((314, 6), (78, 6))"
      ]
     },
     "execution_count": 12,
     "metadata": {},
     "output_type": "execute_result"
    }
   ],
   "source": [
    "train_dataset.shape, test_dataset.shape"
   ]
  },
  {
   "cell_type": "code",
   "execution_count": 13,
   "id": "b810e4c7",
   "metadata": {},
   "outputs": [
    {
     "data": {
      "text/html": [
       "<div>\n",
       "<style scoped>\n",
       "    .dataframe tbody tr th:only-of-type {\n",
       "        vertical-align: middle;\n",
       "    }\n",
       "\n",
       "    .dataframe tbody tr th {\n",
       "        vertical-align: top;\n",
       "    }\n",
       "\n",
       "    .dataframe thead th {\n",
       "        text-align: right;\n",
       "    }\n",
       "</style>\n",
       "<table border=\"1\" class=\"dataframe\">\n",
       "  <thead>\n",
       "    <tr style=\"text-align: right;\">\n",
       "      <th></th>\n",
       "      <th>cylinders</th>\n",
       "      <th>displacement</th>\n",
       "      <th>horsepower</th>\n",
       "      <th>weight</th>\n",
       "      <th>acceleration</th>\n",
       "      <th>model_year</th>\n",
       "    </tr>\n",
       "  </thead>\n",
       "  <tbody>\n",
       "    <tr>\n",
       "      <th>79</th>\n",
       "      <td>4</td>\n",
       "      <td>96.0</td>\n",
       "      <td>69.0</td>\n",
       "      <td>2189</td>\n",
       "      <td>18.0</td>\n",
       "      <td>72</td>\n",
       "    </tr>\n",
       "    <tr>\n",
       "      <th>276</th>\n",
       "      <td>4</td>\n",
       "      <td>121.0</td>\n",
       "      <td>115.0</td>\n",
       "      <td>2795</td>\n",
       "      <td>15.7</td>\n",
       "      <td>78</td>\n",
       "    </tr>\n",
       "    <tr>\n",
       "      <th>248</th>\n",
       "      <td>4</td>\n",
       "      <td>91.0</td>\n",
       "      <td>60.0</td>\n",
       "      <td>1800</td>\n",
       "      <td>16.4</td>\n",
       "      <td>78</td>\n",
       "    </tr>\n",
       "    <tr>\n",
       "      <th>56</th>\n",
       "      <td>4</td>\n",
       "      <td>91.0</td>\n",
       "      <td>70.0</td>\n",
       "      <td>1955</td>\n",
       "      <td>20.5</td>\n",
       "      <td>71</td>\n",
       "    </tr>\n",
       "    <tr>\n",
       "      <th>393</th>\n",
       "      <td>4</td>\n",
       "      <td>140.0</td>\n",
       "      <td>86.0</td>\n",
       "      <td>2790</td>\n",
       "      <td>15.6</td>\n",
       "      <td>82</td>\n",
       "    </tr>\n",
       "  </tbody>\n",
       "</table>\n",
       "</div>"
      ],
      "text/plain": [
       "     cylinders  displacement  horsepower  weight  acceleration  model_year\n",
       "79           4          96.0        69.0    2189          18.0          72\n",
       "276          4         121.0       115.0    2795          15.7          78\n",
       "248          4          91.0        60.0    1800          16.4          78\n",
       "56           4          91.0        70.0    1955          20.5          71\n",
       "393          4         140.0        86.0    2790          15.6          82"
      ]
     },
     "execution_count": 13,
     "metadata": {},
     "output_type": "execute_result"
    }
   ],
   "source": [
    "train_dataset.head()"
   ]
  },
  {
   "cell_type": "code",
   "execution_count": 14,
   "id": "2ee8e1ed",
   "metadata": {},
   "outputs": [
    {
     "data": {
      "text/plain": [
       "79     26.0\n",
       "276    21.6\n",
       "248    36.1\n",
       "56     26.0\n",
       "393    27.0\n",
       "Name: mpg, dtype: float64"
      ]
     },
     "execution_count": 14,
     "metadata": {},
     "output_type": "execute_result"
    }
   ],
   "source": [
    "train_labels.head()"
   ]
  },
  {
   "cell_type": "markdown",
   "id": "c22ddcde",
   "metadata": {},
   "source": [
    "### 딥러닝 모델 만들기"
   ]
  },
  {
   "cell_type": "code",
   "execution_count": 15,
   "id": "69d1189a",
   "metadata": {},
   "outputs": [
    {
     "data": {
      "text/plain": [
       "'2.6.0'"
      ]
     },
     "execution_count": 15,
     "metadata": {},
     "output_type": "execute_result"
    }
   ],
   "source": [
    "import tensorflow as tf\n",
    "tf.__version__"
   ]
  },
  {
   "cell_type": "markdown",
   "id": "c779aa8f",
   "metadata": {},
   "source": [
    "#### 딥러닝 층 구성"
   ]
  },
  {
   "cell_type": "code",
   "execution_count": 23,
   "id": "143f1fc5",
   "metadata": {},
   "outputs": [],
   "source": [
    "model = tf.keras.Sequential()\n",
    "model.add(tf.keras.layers.Dense(64, activation = 'relu', input_shape = [len(train_dataset.keys())])) # 입력하는 변수의 개수\n",
    "model.add(tf.keras.layers.Dense(64, activation = 'relu'))\n",
    "model.add(tf.keras.layers.Dense(64, activation = 'relu'))\n",
    "model.add(tf.keras.layers.Dense(1))"
   ]
  },
  {
   "cell_type": "markdown",
   "id": "ca353f46",
   "metadata": {},
   "source": [
    "#### 모델 컴파일"
   ]
  },
  {
   "cell_type": "code",
   "execution_count": 24,
   "id": "79ce6897",
   "metadata": {},
   "outputs": [],
   "source": [
    "model.compile(loss = 'mse', metrics = ['mae', 'mse'])"
   ]
  },
  {
   "cell_type": "markdown",
   "id": "9dd69b75",
   "metadata": {},
   "source": [
    "#### 모델 확인"
   ]
  },
  {
   "cell_type": "code",
   "execution_count": 25,
   "id": "3942ea90",
   "metadata": {},
   "outputs": [
    {
     "name": "stdout",
     "output_type": "stream",
     "text": [
      "Model: \"sequential_1\"\n",
      "_________________________________________________________________\n",
      "Layer (type)                 Output Shape              Param #   \n",
      "=================================================================\n",
      "dense_4 (Dense)              (None, 64)                448       \n",
      "_________________________________________________________________\n",
      "dense_5 (Dense)              (None, 64)                4160      \n",
      "_________________________________________________________________\n",
      "dense_6 (Dense)              (None, 64)                4160      \n",
      "_________________________________________________________________\n",
      "dense_7 (Dense)              (None, 1)                 65        \n",
      "=================================================================\n",
      "Total params: 8,833\n",
      "Trainable params: 8,833\n",
      "Non-trainable params: 0\n",
      "_________________________________________________________________\n"
     ]
    }
   ],
   "source": [
    "model.summary()"
   ]
  },
  {
   "cell_type": "markdown",
   "id": "2645ee3d",
   "metadata": {},
   "source": [
    "#### 딥러닝 모델로 학습"
   ]
  },
  {
   "cell_type": "code",
   "execution_count": 29,
   "id": "67fa99be",
   "metadata": {},
   "outputs": [
    {
     "name": "stdout",
     "output_type": "stream",
     "text": [
      "Epoch 1/100\n",
      "10/10 [==============================] - 0s 1ms/step - loss: 716.3177 - mae: 23.4658 - mse: 716.3177\n",
      "Epoch 2/100\n",
      "10/10 [==============================] - 0s 1ms/step - loss: 434.1243 - mae: 17.0017 - mse: 434.1243\n",
      "Epoch 3/100\n",
      "10/10 [==============================] - 0s 1ms/step - loss: 732.5390 - mae: 22.7777 - mse: 732.5390\n",
      "Epoch 4/100\n",
      "10/10 [==============================] - 0s 1ms/step - loss: 625.9254 - mae: 21.2529 - mse: 625.9254\n",
      "Epoch 5/100\n",
      "10/10 [==============================] - 0s 1ms/step - loss: 648.3026 - mae: 20.9410 - mse: 648.3026\n",
      "Epoch 6/100\n",
      "10/10 [==============================] - 0s 1ms/step - loss: 290.8662 - mae: 14.2567 - mse: 290.8662\n",
      "Epoch 7/100\n",
      "10/10 [==============================] - 0s 2ms/step - loss: 659.6659 - mae: 22.1550 - mse: 659.6659\n",
      "Epoch 8/100\n",
      "10/10 [==============================] - 0s 1ms/step - loss: 453.7119 - mae: 17.9533 - mse: 453.7119\n",
      "Epoch 9/100\n",
      "10/10 [==============================] - 0s 1ms/step - loss: 515.1760 - mae: 19.7582 - mse: 515.1760\n",
      "Epoch 10/100\n",
      "10/10 [==============================] - 0s 1ms/step - loss: 477.0262 - mae: 19.2890 - mse: 477.0262\n",
      "Epoch 11/100\n",
      "10/10 [==============================] - 0s 1ms/step - loss: 478.5064 - mae: 16.7400 - mse: 478.5064\n",
      "Epoch 12/100\n",
      "10/10 [==============================] - ETA: 0s - loss: 70.8730 - mae: 6.6344 - mse: 70.873 - 0s 1ms/step - loss: 201.2613 - mae: 11.4160 - mse: 201.2613\n",
      "Epoch 13/100\n",
      "10/10 [==============================] - 0s 1ms/step - loss: 334.7089 - mae: 15.1163 - mse: 334.7089\n",
      "Epoch 14/100\n",
      "10/10 [==============================] - 0s 1ms/step - loss: 391.0023 - mae: 16.6440 - mse: 391.0023\n",
      "Epoch 15/100\n",
      "10/10 [==============================] - 0s 1ms/step - loss: 303.2169 - mae: 14.4260 - mse: 303.2169\n",
      "Epoch 16/100\n",
      "10/10 [==============================] - 0s 1ms/step - loss: 288.3501 - mae: 14.4098 - mse: 288.3501\n",
      "Epoch 17/100\n",
      "10/10 [==============================] - 0s 1ms/step - loss: 232.2878 - mae: 12.8722 - mse: 232.2878\n",
      "Epoch 18/100\n",
      "10/10 [==============================] - 0s 1ms/step - loss: 258.2816 - mae: 12.6866 - mse: 258.2816\n",
      "Epoch 19/100\n",
      "10/10 [==============================] - 0s 1ms/step - loss: 364.2965 - mae: 14.3267 - mse: 364.2965\n",
      "Epoch 20/100\n",
      "10/10 [==============================] - 0s 2ms/step - loss: 319.5062 - mae: 14.9784 - mse: 319.5062\n",
      "Epoch 21/100\n",
      "10/10 [==============================] - 0s 1ms/step - loss: 175.6663 - mae: 10.9846 - mse: 175.6663\n",
      "Epoch 22/100\n",
      "10/10 [==============================] - 0s 1ms/step - loss: 255.8002 - mae: 14.2139 - mse: 255.8002\n",
      "Epoch 23/100\n",
      "10/10 [==============================] - 0s 1ms/step - loss: 182.1701 - mae: 10.9630 - mse: 182.1701\n",
      "Epoch 24/100\n",
      "10/10 [==============================] - 0s 1ms/step - loss: 256.4727 - mae: 13.9861 - mse: 256.4727\n",
      "Epoch 25/100\n",
      "10/10 [==============================] - 0s 2ms/step - loss: 249.6934 - mae: 13.8028 - mse: 249.6934\n",
      "Epoch 26/100\n",
      "10/10 [==============================] - 0s 1ms/step - loss: 151.4478 - mae: 10.6637 - mse: 151.4478\n",
      "Epoch 27/100\n",
      "10/10 [==============================] - 0s 1ms/step - loss: 222.4166 - mae: 12.7129 - mse: 222.4166\n",
      "Epoch 28/100\n",
      "10/10 [==============================] - 0s 1ms/step - loss: 199.7277 - mae: 12.2518 - mse: 199.7277\n",
      "Epoch 29/100\n",
      "10/10 [==============================] - 0s 1ms/step - loss: 182.6990 - mae: 11.2291 - mse: 182.6990\n",
      "Epoch 30/100\n",
      "10/10 [==============================] - 0s 1ms/step - loss: 179.8143 - mae: 11.2566 - mse: 179.8143\n",
      "Epoch 31/100\n",
      "10/10 [==============================] - 0s 1ms/step - loss: 180.5989 - mae: 11.6496 - mse: 180.5989\n",
      "Epoch 32/100\n",
      "10/10 [==============================] - 0s 1ms/step - loss: 154.4878 - mae: 11.0699 - mse: 154.4878\n",
      "Epoch 33/100\n",
      "10/10 [==============================] - 0s 1ms/step - loss: 130.8177 - mae: 9.7279 - mse: 130.8177\n",
      "Epoch 34/100\n",
      "10/10 [==============================] - 0s 1ms/step - loss: 140.9910 - mae: 9.9095 - mse: 140.9910\n",
      "Epoch 35/100\n",
      "10/10 [==============================] - 0s 1ms/step - loss: 124.0500 - mae: 9.2055 - mse: 124.0500\n",
      "Epoch 36/100\n",
      "10/10 [==============================] - 0s 1ms/step - loss: 168.1499 - mae: 10.9158 - mse: 168.1499\n",
      "Epoch 37/100\n",
      "10/10 [==============================] - 0s 1ms/step - loss: 169.8704 - mae: 10.4084 - mse: 169.8704\n",
      "Epoch 38/100\n",
      "10/10 [==============================] - 0s 1ms/step - loss: 112.6101 - mae: 8.6070 - mse: 112.6101\n",
      "Epoch 39/100\n",
      "10/10 [==============================] - 0s 1ms/step - loss: 124.3992 - mae: 8.9471 - mse: 124.3992\n",
      "Epoch 40/100\n",
      "10/10 [==============================] - 0s 1ms/step - loss: 105.3141 - mae: 8.7244 - mse: 105.3141\n",
      "Epoch 41/100\n",
      "10/10 [==============================] - 0s 1ms/step - loss: 106.9641 - mae: 8.8302 - mse: 106.9641\n",
      "Epoch 42/100\n",
      "10/10 [==============================] - 0s 1ms/step - loss: 124.9611 - mae: 9.7372 - mse: 124.9611\n",
      "Epoch 43/100\n",
      "10/10 [==============================] - 0s 1ms/step - loss: 84.8673 - mae: 7.3153 - mse: 84.8673\n",
      "Epoch 44/100\n",
      "10/10 [==============================] - 0s 1ms/step - loss: 127.2844 - mae: 9.5576 - mse: 127.2844\n",
      "Epoch 45/100\n",
      "10/10 [==============================] - 0s 2ms/step - loss: 123.5739 - mae: 9.4564 - mse: 123.5739\n",
      "Epoch 46/100\n",
      "10/10 [==============================] - 0s 2ms/step - loss: 118.0365 - mae: 9.2439 - mse: 118.0365\n",
      "Epoch 47/100\n",
      "10/10 [==============================] - 0s 1ms/step - loss: 93.3787 - mae: 8.2250 - mse: 93.3787\n",
      "Epoch 48/100\n",
      "10/10 [==============================] - 0s 1ms/step - loss: 91.7759 - mae: 8.0285 - mse: 91.7759\n",
      "Epoch 49/100\n",
      "10/10 [==============================] - 0s 1ms/step - loss: 105.7003 - mae: 8.3991 - mse: 105.7003\n",
      "Epoch 50/100\n",
      "10/10 [==============================] - 0s 1ms/step - loss: 68.2567 - mae: 6.7577 - mse: 68.2567\n",
      "Epoch 51/100\n",
      "10/10 [==============================] - 0s 1ms/step - loss: 57.7474 - mae: 5.6913 - mse: 57.7474\n",
      "Epoch 52/100\n",
      "10/10 [==============================] - 0s 1ms/step - loss: 95.0045 - mae: 8.0550 - mse: 95.0045\n",
      "Epoch 53/100\n",
      "10/10 [==============================] - 0s 1ms/step - loss: 65.1163 - mae: 6.3318 - mse: 65.1163\n",
      "Epoch 54/100\n",
      "10/10 [==============================] - 0s 1ms/step - loss: 87.5215 - mae: 7.4577 - mse: 87.5215\n",
      "Epoch 55/100\n",
      "10/10 [==============================] - 0s 2ms/step - loss: 65.8692 - mae: 6.1763 - mse: 65.8692\n",
      "Epoch 56/100\n",
      "10/10 [==============================] - 0s 1ms/step - loss: 70.3406 - mae: 6.6166 - mse: 70.3406\n",
      "Epoch 57/100\n",
      "10/10 [==============================] - 0s 2ms/step - loss: 66.7137 - mae: 6.4159 - mse: 66.7137\n",
      "Epoch 58/100\n",
      "10/10 [==============================] - 0s 2ms/step - loss: 49.6180 - mae: 5.4715 - mse: 49.6180\n",
      "Epoch 59/100\n",
      "10/10 [==============================] - 0s 2ms/step - loss: 63.0391 - mae: 6.1938 - mse: 63.0391\n",
      "Epoch 60/100\n",
      "10/10 [==============================] - 0s 2ms/step - loss: 84.9881 - mae: 7.6840 - mse: 84.9881\n",
      "Epoch 61/100\n",
      "10/10 [==============================] - 0s 1ms/step - loss: 52.5714 - mae: 5.5893 - mse: 52.5714\n",
      "Epoch 62/100\n",
      "10/10 [==============================] - 0s 1ms/step - loss: 40.9605 - mae: 4.8970 - mse: 40.9605\n",
      "Epoch 63/100\n",
      "10/10 [==============================] - 0s 2ms/step - loss: 59.5163 - mae: 6.1598 - mse: 59.5163\n",
      "Epoch 64/100\n",
      "10/10 [==============================] - 0s 2ms/step - loss: 61.7681 - mae: 6.4566 - mse: 61.7681\n",
      "Epoch 65/100\n",
      "10/10 [==============================] - 0s 2ms/step - loss: 53.7858 - mae: 5.6425 - mse: 53.7858\n",
      "Epoch 66/100\n",
      "10/10 [==============================] - 0s 2ms/step - loss: 56.8677 - mae: 5.6824 - mse: 56.8677\n",
      "Epoch 67/100\n",
      "10/10 [==============================] - 0s 1ms/step - loss: 39.2608 - mae: 4.8035 - mse: 39.2608\n",
      "Epoch 68/100\n",
      "10/10 [==============================] - 0s 1ms/step - loss: 57.8346 - mae: 5.9604 - mse: 57.8346\n",
      "Epoch 69/100\n",
      "10/10 [==============================] - 0s 1ms/step - loss: 42.2240 - mae: 5.0786 - mse: 42.2240\n",
      "Epoch 70/100\n",
      "10/10 [==============================] - 0s 1ms/step - loss: 52.0414 - mae: 5.7296 - mse: 52.0414\n",
      "Epoch 71/100\n",
      "10/10 [==============================] - ETA: 0s - loss: 29.2810 - mae: 4.4992 - mse: 29.281 - 0s 1ms/step - loss: 59.8504 - mae: 6.1411 - mse: 59.8504\n",
      "Epoch 72/100\n"
     ]
    },
    {
     "name": "stdout",
     "output_type": "stream",
     "text": [
      "10/10 [==============================] - 0s 1ms/step - loss: 50.5431 - mae: 5.4749 - mse: 50.5431\n",
      "Epoch 73/100\n",
      "10/10 [==============================] - 0s 1ms/step - loss: 36.1905 - mae: 4.7260 - mse: 36.1905\n",
      "Epoch 74/100\n",
      "10/10 [==============================] - 0s 2ms/step - loss: 63.7105 - mae: 6.3583 - mse: 63.7105\n",
      "Epoch 75/100\n",
      "10/10 [==============================] - 0s 1ms/step - loss: 50.7779 - mae: 5.6088 - mse: 50.7779\n",
      "Epoch 76/100\n",
      "10/10 [==============================] - 0s 1ms/step - loss: 43.8703 - mae: 5.2753 - mse: 43.8703\n",
      "Epoch 77/100\n",
      "10/10 [==============================] - 0s 1ms/step - loss: 49.6916 - mae: 5.3102 - mse: 49.6916\n",
      "Epoch 78/100\n",
      "10/10 [==============================] - 0s 1ms/step - loss: 34.6675 - mae: 4.4862 - mse: 34.6675\n",
      "Epoch 79/100\n",
      "10/10 [==============================] - 0s 1ms/step - loss: 54.7500 - mae: 5.8232 - mse: 54.7500\n",
      "Epoch 80/100\n",
      "10/10 [==============================] - 0s 1ms/step - loss: 44.8461 - mae: 5.1768 - mse: 44.8461\n",
      "Epoch 81/100\n",
      "10/10 [==============================] - 0s 1ms/step - loss: 40.6312 - mae: 4.8761 - mse: 40.6312\n",
      "Epoch 82/100\n",
      "10/10 [==============================] - 0s 1ms/step - loss: 49.7153 - mae: 5.5866 - mse: 49.7153\n",
      "Epoch 83/100\n",
      "10/10 [==============================] - 0s 1ms/step - loss: 40.4498 - mae: 4.8667 - mse: 40.4498\n",
      "Epoch 84/100\n",
      "10/10 [==============================] - 0s 1ms/step - loss: 37.1070 - mae: 4.7520 - mse: 37.1070\n",
      "Epoch 85/100\n",
      "10/10 [==============================] - 0s 1ms/step - loss: 51.0157 - mae: 5.6753 - mse: 51.0157\n",
      "Epoch 86/100\n",
      "10/10 [==============================] - 0s 1ms/step - loss: 46.3564 - mae: 5.2433 - mse: 46.3564\n",
      "Epoch 87/100\n",
      "10/10 [==============================] - 0s 1ms/step - loss: 32.4460 - mae: 4.3406 - mse: 32.4460\n",
      "Epoch 88/100\n",
      "10/10 [==============================] - 0s 1ms/step - loss: 47.6826 - mae: 5.2793 - mse: 47.6826\n",
      "Epoch 89/100\n",
      "10/10 [==============================] - 0s 1ms/step - loss: 38.3874 - mae: 4.8229 - mse: 38.3874\n",
      "Epoch 90/100\n",
      "10/10 [==============================] - 0s 1ms/step - loss: 48.3259 - mae: 5.6006 - mse: 48.3259\n",
      "Epoch 91/100\n",
      "10/10 [==============================] - 0s 1ms/step - loss: 33.5313 - mae: 4.3816 - mse: 33.5313\n",
      "Epoch 92/100\n",
      "10/10 [==============================] - 0s 1ms/step - loss: 42.8479 - mae: 5.2168 - mse: 42.8479\n",
      "Epoch 93/100\n",
      "10/10 [==============================] - ETA: 0s - loss: 38.1319 - mae: 5.1934 - mse: 38.131 - 0s 1ms/step - loss: 26.7271 - mae: 3.9570 - mse: 26.7271\n",
      "Epoch 94/100\n",
      "10/10 [==============================] - 0s 1ms/step - loss: 49.5154 - mae: 5.4078 - mse: 49.5154\n",
      "Epoch 95/100\n",
      "10/10 [==============================] - 0s 1ms/step - loss: 39.9920 - mae: 4.8485 - mse: 39.9920\n",
      "Epoch 96/100\n",
      "10/10 [==============================] - 0s 1ms/step - loss: 36.4731 - mae: 4.7809 - mse: 36.4731\n",
      "Epoch 97/100\n",
      "10/10 [==============================] - 0s 1ms/step - loss: 40.2466 - mae: 5.0894 - mse: 40.2466\n",
      "Epoch 98/100\n",
      "10/10 [==============================] - 0s 2ms/step - loss: 46.5490 - mae: 5.3853 - mse: 46.5490\n",
      "Epoch 99/100\n",
      "10/10 [==============================] - 0s 1ms/step - loss: 40.4881 - mae: 4.8285 - mse: 40.4881\n",
      "Epoch 100/100\n",
      "10/10 [==============================] - 0s 1ms/step - loss: 33.3063 - mae: 4.4967 - mse: 33.3063\n"
     ]
    },
    {
     "data": {
      "text/plain": [
       "<keras.callbacks.History at 0x15cd65d7850>"
      ]
     },
     "execution_count": 29,
     "metadata": {},
     "output_type": "execute_result"
    }
   ],
   "source": [
    "model.fit(train_dataset, train_labels, epochs = 100, verbose = 1)"
   ]
  },
  {
   "cell_type": "markdown",
   "id": "3267db87",
   "metadata": {},
   "source": [
    "#### 딥러닝 모델로 평가"
   ]
  },
  {
   "cell_type": "code",
   "execution_count": 30,
   "id": "1f9c1000",
   "metadata": {},
   "outputs": [
    {
     "name": "stdout",
     "output_type": "stream",
     "text": [
      "3/3 [==============================] - 0s 2ms/step - loss: 28.9106 - mae: 4.3188 - mse: 28.9106\n"
     ]
    },
    {
     "data": {
      "text/plain": [
       "[28.910585403442383, 4.318787574768066, 28.910585403442383]"
      ]
     },
     "execution_count": 30,
     "metadata": {},
     "output_type": "execute_result"
    }
   ],
   "source": [
    "model.evaluate(test_dataset, test_labels)"
   ]
  },
  {
   "cell_type": "markdown",
   "id": "2968028b",
   "metadata": {},
   "source": [
    "#### 딥러닝 모델의 예측"
   ]
  },
  {
   "cell_type": "code",
   "execution_count": 31,
   "id": "0d7d1fd5",
   "metadata": {},
   "outputs": [
    {
     "data": {
      "text/plain": [
       "array([16.895132, 14.332577, 30.187517, 28.434921, 19.235752],\n",
       "      dtype=float32)"
      ]
     },
     "execution_count": 31,
     "metadata": {},
     "output_type": "execute_result"
    }
   ],
   "source": [
    "predict_labels = model.predict(test_dataset).flatten()\n",
    "predict_labels[:5]"
   ]
  },
  {
   "cell_type": "markdown",
   "id": "f109b7b1",
   "metadata": {},
   "source": [
    "#### 딥러닝 모델의 예측결과 평가하기"
   ]
  },
  {
   "cell_type": "code",
   "execution_count": 32,
   "id": "21a1ef8e",
   "metadata": {},
   "outputs": [
    {
     "data": {
      "text/plain": [
       "<AxesSubplot:xlabel='mpg'>"
      ]
     },
     "execution_count": 32,
     "metadata": {},
     "output_type": "execute_result"
    },
    {
     "data": {
      "image/png": "[encoded data removed]",
      "text/plain": [
       "<Figure size 432x288 with 1 Axes>"
      ]
     },
     "metadata": {
      "needs_background": "light"
     },
     "output_type": "display_data"
    }
   ],
   "source": [
    "sns.scatterplot(x = test_labels, y = predict_labels)"
   ]
  },
  {
   "cell_type": "code",
   "execution_count": 33,
   "id": "67cea749",
   "metadata": {},
   "outputs": [
    {
     "data": {
      "text/plain": [
       "<seaborn.axisgrid.JointGrid at 0x15cda541ac0>"
      ]
     },
     "execution_count": 33,
     "metadata": {},
     "output_type": "execute_result"
    },
    {
     "data": {
      "image/png": "[encoded data removed]",
      "text/plain": [
       "<Figure size 432x432 with 3 Axes>"
      ]
     },
     "metadata": {
      "needs_background": "light"
     },
     "output_type": "display_data"
    }
   ],
   "source": [
    "sns.jointplot(x = test_labels, y = predict_labels, kind = 'reg')"
   ]
  },
  {
   "cell_type": "code",
   "execution_count": null,
   "id": "b1f79204",
   "metadata": {},
   "outputs": [],
   "source": []
  }
 ],
 "metadata": {
  "kernelspec": {
   "display_name": "Python 3",
   "language": "python",
   "name": "python3"
  },
  "language_info": {
   "codemirror_mode": {
    "name": "ipython",
    "version": 3
   },
   "file_extension": ".py",
   "mimetype": "text/x-python",
   "name": "python",
   "nbconvert_exporter": "python",
   "pygments_lexer": "ipython3",
   "version": "3.8.8"
  },
  "toc": {
   "base_numbering": 1,
   "nav_menu": {},
   "number_sections": true,
   "sideBar": true,
   "skip_h1_title": false,
   "title_cell": "Table of Contents",
   "title_sidebar": "Contents",
   "toc_cell": false,
   "toc_position": {},
   "toc_section_display": true,
   "toc_window_display": false
  }
 },
 "nbformat": 4,
 "nbformat_minor": 5
}
