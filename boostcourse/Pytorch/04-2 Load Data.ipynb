{
 "cells": [
  {
   "cell_type": "markdown",
   "id": "5f8aed59",
   "metadata": {},
   "source": [
    "## Load Data"
   ]
  },
  {
   "cell_type": "markdown",
   "id": "98de350b",
   "metadata": {},
   "source": [
    "### Slicing 1D Array"
   ]
  },
  {
   "cell_type": "code",
   "execution_count": 1,
   "id": "2974ee68",
   "metadata": {},
   "outputs": [
    {
     "name": "stdout",
     "output_type": "stream",
     "text": [
      "[0, 1, 2, 3, 4]\n"
     ]
    }
   ],
   "source": [
    "nums = [0, 1, 2, 3, 4]\n",
    "print(nums)"
   ]
  },
  {
   "cell_type": "markdown",
   "id": "ec884072",
   "metadata": {},
   "source": [
    "- index 2에서 4 전까지 가져와라.(앞 포함, 뒤 비포함)"
   ]
  },
  {
   "cell_type": "code",
   "execution_count": 2,
   "id": "dc55f046",
   "metadata": {},
   "outputs": [
    {
     "name": "stdout",
     "output_type": "stream",
     "text": [
      "[2, 3]\n"
     ]
    }
   ],
   "source": [
    "print(nums[2:4])"
   ]
  },
  {
   "cell_type": "markdown",
   "id": "7bfec9f1",
   "metadata": {},
   "source": [
    "- index 2부터 다 가져와라."
   ]
  },
  {
   "cell_type": "code",
   "execution_count": 3,
   "id": "3204a09f",
   "metadata": {},
   "outputs": [
    {
     "name": "stdout",
     "output_type": "stream",
     "text": [
      "[2, 3, 4]\n"
     ]
    }
   ],
   "source": [
    "print(nums[2:])"
   ]
  },
  {
   "cell_type": "markdown",
   "id": "e6620329",
   "metadata": {},
   "source": [
    "- index 2 전까지 가져와라. (뒤는 비포함)"
   ]
  },
  {
   "cell_type": "code",
   "execution_count": 4,
   "id": "cc4a7cbd",
   "metadata": {},
   "outputs": [
    {
     "name": "stdout",
     "output_type": "stream",
     "text": [
      "[0, 1]\n"
     ]
    }
   ],
   "source": [
    "print(nums[:2])"
   ]
  },
  {
   "cell_type": "markdown",
   "id": "6d872842",
   "metadata": {},
   "source": [
    "- 전부 가져와라."
   ]
  },
  {
   "cell_type": "code",
   "execution_count": 5,
   "id": "8e62acff",
   "metadata": {},
   "outputs": [
    {
     "name": "stdout",
     "output_type": "stream",
     "text": [
      "[0, 1, 2, 3, 4]\n"
     ]
    }
   ],
   "source": [
    "print(nums[:])"
   ]
  },
  {
   "cell_type": "markdown",
   "id": "d90f9b47",
   "metadata": {},
   "source": [
    "- 마지막 index 전까지 가져와라.(뒤는 비포함)"
   ]
  },
  {
   "cell_type": "code",
   "execution_count": 6,
   "id": "93c1005c",
   "metadata": {},
   "outputs": [
    {
     "name": "stdout",
     "output_type": "stream",
     "text": [
      "[0, 1, 2, 3]\n"
     ]
    }
   ],
   "source": [
    "print(nums[:-1])"
   ]
  },
  {
   "cell_type": "markdown",
   "id": "1213bb33",
   "metadata": {},
   "source": [
    "- assign도 가능"
   ]
  },
  {
   "cell_type": "code",
   "execution_count": 7,
   "id": "58aedf7d",
   "metadata": {},
   "outputs": [
    {
     "name": "stdout",
     "output_type": "stream",
     "text": [
      "[0, 1, 8, 9, 4]\n"
     ]
    }
   ],
   "source": [
    "nums[2:4] = [8, 9]\n",
    "print(nums)"
   ]
  },
  {
   "cell_type": "markdown",
   "id": "3f2a6912",
   "metadata": {},
   "source": [
    "### Slicing 2D Array"
   ]
  },
  {
   "cell_type": "code",
   "execution_count": 8,
   "id": "106b7526",
   "metadata": {},
   "outputs": [],
   "source": [
    "import numpy as np"
   ]
  },
  {
   "cell_type": "code",
   "execution_count": 9,
   "id": "fe1b1f06",
   "metadata": {},
   "outputs": [],
   "source": [
    "b = np.array([[1, 2, 3, 4], [5, 6, 7, 8], [9, 10, 11, 12]])"
   ]
  },
  {
   "cell_type": "code",
   "execution_count": 11,
   "id": "92d45c94",
   "metadata": {},
   "outputs": [
    {
     "name": "stdout",
     "output_type": "stream",
     "text": [
      "[[ 1  2  3  4]\n",
      " [ 5  6  7  8]\n",
      " [ 9 10 11 12]]\n"
     ]
    }
   ],
   "source": [
    "print(b)"
   ]
  },
  {
   "cell_type": "code",
   "execution_count": 13,
   "id": "8aa31241",
   "metadata": {},
   "outputs": [
    {
     "data": {
      "text/plain": [
       "array([ 2,  6, 10])"
      ]
     },
     "execution_count": 13,
     "metadata": {},
     "output_type": "execute_result"
    }
   ],
   "source": [
    "b[:, 1]"
   ]
  },
  {
   "cell_type": "code",
   "execution_count": 14,
   "id": "259f8cbc",
   "metadata": {},
   "outputs": [
    {
     "data": {
      "text/plain": [
       "array([ 9, 10, 11, 12])"
      ]
     },
     "execution_count": 14,
     "metadata": {},
     "output_type": "execute_result"
    }
   ],
   "source": [
    "b[-1]"
   ]
  },
  {
   "cell_type": "code",
   "execution_count": 16,
   "id": "5e29c51a",
   "metadata": {},
   "outputs": [
    {
     "data": {
      "text/plain": [
       "array([ 9, 10, 11, 12])"
      ]
     },
     "execution_count": 16,
     "metadata": {},
     "output_type": "execute_result"
    }
   ],
   "source": [
    "b[-1, :]"
   ]
  },
  {
   "cell_type": "code",
   "execution_count": 17,
   "id": "9f5762cc",
   "metadata": {},
   "outputs": [
    {
     "data": {
      "text/plain": [
       "array([ 9, 10, 11, 12])"
      ]
     },
     "execution_count": 17,
     "metadata": {},
     "output_type": "execute_result"
    }
   ],
   "source": [
    "b[-1, ...]"
   ]
  },
  {
   "cell_type": "code",
   "execution_count": 18,
   "id": "f193a408",
   "metadata": {},
   "outputs": [
    {
     "data": {
      "text/plain": [
       "array([[1, 2, 3, 4],\n",
       "       [5, 6, 7, 8]])"
      ]
     },
     "execution_count": 18,
     "metadata": {},
     "output_type": "execute_result"
    }
   ],
   "source": [
    "b[0:2, :]"
   ]
  },
  {
   "cell_type": "markdown",
   "id": "75065b92",
   "metadata": {},
   "source": [
    "### Loading Data From `.csv` file"
   ]
  },
  {
   "cell_type": "code",
   "execution_count": 19,
   "id": "4b46b1ce",
   "metadata": {},
   "outputs": [],
   "source": [
    "xy = np.loadtxt('data-01-test-score.csv', delimiter = ',', dtype = np.float32)"
   ]
  },
  {
   "cell_type": "code",
   "execution_count": 20,
   "id": "f69a5dba",
   "metadata": {},
   "outputs": [],
   "source": [
    "X_data = xy[:, 0:-1]\n",
    "y_data = xy[:, [-1]]"
   ]
  },
  {
   "cell_type": "code",
   "execution_count": 22,
   "id": "3affa6f3",
   "metadata": {},
   "outputs": [
    {
     "name": "stdout",
     "output_type": "stream",
     "text": [
      "(25, 3)\n",
      "25\n",
      "[[ 73.  80.  75.]\n",
      " [ 93.  88.  93.]\n",
      " [ 89.  91.  90.]\n",
      " [ 96.  98. 100.]\n",
      " [ 73.  66.  70.]]\n"
     ]
    }
   ],
   "source": [
    "print(X_data.shape)\n",
    "print(len(X_data))\n",
    "print(X_data[:5])"
   ]
  },
  {
   "cell_type": "code",
   "execution_count": 23,
   "id": "20b1e118",
   "metadata": {},
   "outputs": [
    {
     "name": "stdout",
     "output_type": "stream",
     "text": [
      "(25, 1)\n",
      "25\n",
      "[[152.]\n",
      " [185.]\n",
      " [180.]\n",
      " [196.]\n",
      " [142.]]\n"
     ]
    }
   ],
   "source": [
    "print(y_data.shape)\n",
    "print(len(y_data))\n",
    "print(y_data[:5])"
   ]
  },
  {
   "cell_type": "markdown",
   "id": "81cf791e",
   "metadata": {},
   "source": [
    "### Import"
   ]
  },
  {
   "cell_type": "code",
   "execution_count": 25,
   "id": "b261a111",
   "metadata": {},
   "outputs": [],
   "source": [
    "import torch\n",
    "import torch.nn as nn\n",
    "import torch.nn.functional as F\n",
    "import torch.optim as optim"
   ]
  },
  {
   "cell_type": "code",
   "execution_count": 27,
   "id": "eb58b67a",
   "metadata": {},
   "outputs": [
    {
     "data": {
      "text/plain": [
       "<torch._C.Generator at 0x149c9d226d0>"
      ]
     },
     "execution_count": 27,
     "metadata": {},
     "output_type": "execute_result"
    }
   ],
   "source": [
    "torch.manual_seed(1)"
   ]
  },
  {
   "cell_type": "markdown",
   "id": "6d2c3653",
   "metadata": {},
   "source": [
    "### Low-level Implementation"
   ]
  },
  {
   "cell_type": "code",
   "execution_count": 28,
   "id": "3bdb211c",
   "metadata": {},
   "outputs": [
    {
     "name": "stdout",
     "output_type": "stream",
     "text": [
      "Epoch    0/20 Cost : 26811.960938\n",
      "Epoch    1/20 Cost : 9920.530273\n",
      "Epoch    2/20 Cost : 3675.299072\n",
      "Epoch    3/20 Cost : 1366.260620\n",
      "Epoch    4/20 Cost : 512.542480\n",
      "Epoch    5/20 Cost : 196.896606\n",
      "Epoch    6/20 Cost : 80.190994\n",
      "Epoch    7/20 Cost : 37.038696\n",
      "Epoch    8/20 Cost : 21.081335\n",
      "Epoch    9/20 Cost : 15.178759\n",
      "Epoch   10/20 Cost : 12.993677\n",
      "Epoch   11/20 Cost : 12.183028\n",
      "Epoch   12/20 Cost : 11.880536\n",
      "Epoch   13/20 Cost : 11.765964\n",
      "Epoch   14/20 Cost : 11.720855\n",
      "Epoch   15/20 Cost : 11.701437\n",
      "Epoch   16/20 Cost : 11.691509\n",
      "Epoch   17/20 Cost : 11.685122\n",
      "Epoch   18/20 Cost : 11.680006\n",
      "Epoch   19/20 Cost : 11.675371\n",
      "Epoch   20/20 Cost : 11.670942\n"
     ]
    }
   ],
   "source": [
    "# 데이터\n",
    "X_train = torch.FloatTensor(X_data)\n",
    "y_train = torch.FloatTensor(y_data)\n",
    "\n",
    "# 모델 초기화\n",
    "W = torch.zeros((3, 1), requires_grad = True)\n",
    "b = torch.zeros(1, requires_grad = True)\n",
    "\n",
    "# optimizer 설정\n",
    "optimizer = optim.SGD([W, b], lr = 1e-5)\n",
    "\n",
    "nb_epochs = 20\n",
    "for epoch in range(nb_epochs + 1):\n",
    "    \n",
    "    # H(x) 계산\n",
    "    hypothesis = X_train.matmul(W) + b\n",
    "    \n",
    "    # cost 계산\n",
    "    cost = torch.mean((hypothesis - y_train) ** 2)\n",
    "    \n",
    "    # cost로 H(x) 개선\n",
    "    optimizer.zero_grad()\n",
    "    cost.backward()\n",
    "    optimizer.step()\n",
    "    \n",
    "    # 100번마다 로그 출력\n",
    "    print('Epoch {:4d}/{} Cost : {:.6f}'.format(\n",
    "        epoch, nb_epochs, cost.item()\n",
    "    ))"
   ]
  },
  {
   "cell_type": "markdown",
   "id": "74f14d1c",
   "metadata": {},
   "source": [
    "### High-level Implementation with `nn.Module`"
   ]
  },
  {
   "cell_type": "code",
   "execution_count": 29,
   "id": "fb1f0319",
   "metadata": {},
   "outputs": [],
   "source": [
    "class MultivatiateLinearRegressionModel(nn.Module):\n",
    "    def __init__(self):\n",
    "        super().__init__()\n",
    "        self.linear = nn.Linear(3, 1)\n",
    "        \n",
    "    def forward(self, x):\n",
    "        return self.linear(x)"
   ]
  },
  {
   "cell_type": "code",
   "execution_count": 37,
   "id": "ed8ff1eb",
   "metadata": {},
   "outputs": [
    {
     "name": "stdout",
     "output_type": "stream",
     "text": [
      "Epoch    0/20 Cost : 27651.355469\n",
      "Epoch    1/20 Cost : 10232.179688\n",
      "Epoch    2/20 Cost : 3791.824707\n",
      "Epoch    3/20 Cost : 1410.643921\n",
      "Epoch    4/20 Cost : 530.250732\n",
      "Epoch    5/20 Cost : 204.741638\n",
      "Epoch    6/20 Cost : 84.387695\n",
      "Epoch    7/20 Cost : 39.885597\n",
      "Epoch    8/20 Cost : 23.428125\n",
      "Epoch    9/20 Cost : 17.339361\n",
      "Epoch   10/20 Cost : 15.084238\n",
      "Epoch   11/20 Cost : 14.246533\n",
      "Epoch   12/20 Cost : 13.932904\n",
      "Epoch   13/20 Cost : 13.813032\n",
      "Epoch   14/20 Cost : 13.764787\n",
      "Epoch   15/20 Cost : 13.743059\n",
      "Epoch   16/20 Cost : 13.731115\n",
      "Epoch   17/20 Cost : 13.722813\n",
      "Epoch   18/20 Cost : 13.715851\n",
      "Epoch   19/20 Cost : 13.709385\n",
      "Epoch   20/20 Cost : 13.703098\n"
     ]
    }
   ],
   "source": [
    "# 데이터\n",
    "X_train = torch.FloatTensor(X_data)\n",
    "y_train = torch.FloatTensor(y_data)\n",
    "\n",
    "# 모델 초기화\n",
    "model = MultivatiateLinearRegressionModel()\n",
    "\n",
    "# optimizer 설정\n",
    "optimizer = optim.SGD(model.parameters(), lr = 1e-5)\n",
    "\n",
    "nb_epochs = 20\n",
    "for epoch in range(nb_epochs + 1):\n",
    "    \n",
    "    # H(x) 계산\n",
    "    pred = model(X_train)\n",
    "    \n",
    "    # cost 계산\n",
    "    cost = F.mse_loss(pred, y_train)\n",
    "    \n",
    "    # cost로 H(x) 개선\n",
    "    optimizer.zero_grad()\n",
    "    cost.backward()\n",
    "    optimizer.step()\n",
    "    \n",
    "    # 20번마다 로그 출력\n",
    "    print('Epoch {:4d}/{} Cost : {:.6f}'.format(\n",
    "        epoch, nb_epochs, cost.item()\n",
    "    ))"
   ]
  },
  {
   "cell_type": "code",
   "execution_count": null,
   "id": "56094fd3",
   "metadata": {},
   "outputs": [],
   "source": []
  }
 ],
 "metadata": {
  "kernelspec": {
   "display_name": "Python 3",
   "language": "python",
   "name": "python3"
  },
  "language_info": {
   "codemirror_mode": {
    "name": "ipython",
    "version": 3
   },
   "file_extension": ".py",
   "mimetype": "text/x-python",
   "name": "python",
   "nbconvert_exporter": "python",
   "pygments_lexer": "ipython3",
   "version": "3.8.8"
  },
  "toc": {
   "base_numbering": 1,
   "nav_menu": {},
   "number_sections": true,
   "sideBar": true,
   "skip_h1_title": false,
   "title_cell": "Table of Contents",
   "title_sidebar": "Contents",
   "toc_cell": false,
   "toc_position": {},
   "toc_section_display": true,
   "toc_window_display": false
  }
 },
 "nbformat": 4,
 "nbformat_minor": 5
}
