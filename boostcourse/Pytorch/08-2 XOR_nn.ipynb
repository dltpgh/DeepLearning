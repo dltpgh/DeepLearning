{
 "cells": [
  {
   "cell_type": "markdown",
   "id": "05cc5d40",
   "metadata": {},
   "source": [
    "## XOR nn"
   ]
  },
  {
   "cell_type": "code",
   "execution_count": 1,
   "id": "13bca476",
   "metadata": {},
   "outputs": [],
   "source": [
    "import torch"
   ]
  },
  {
   "cell_type": "code",
   "execution_count": 2,
   "id": "52fe398d",
   "metadata": {},
   "outputs": [],
   "source": [
    "device = 'cuda' if torch.cuda.is_available() else 'cpu'\n",
    "\n",
    "torch.manual_seed(777)\n",
    "if device == 'cuda':\n",
    "    torch.cuda.manual_seed_all(777)"
   ]
  },
  {
   "cell_type": "code",
   "execution_count": 3,
   "id": "0874f096",
   "metadata": {},
   "outputs": [],
   "source": [
    "X = torch.FloatTensor([[0, 0], [0, 1], [1, 0], [1, 1]]).to(device)\n",
    "y = torch.FloatTensor([[0], [1], [1], [0]]).to(device)"
   ]
  },
  {
   "cell_type": "code",
   "execution_count": 4,
   "id": "db5ea1b2",
   "metadata": {},
   "outputs": [],
   "source": [
    "# nn layers\n",
    "linear1 = torch.nn.Linear(2, 2, bias = True)\n",
    "linear2 = torch.nn.Linear(2, 1, bias = True)\n",
    "sigmoid = torch.nn.Sigmoid()"
   ]
  },
  {
   "cell_type": "code",
   "execution_count": 5,
   "id": "eb08e081",
   "metadata": {},
   "outputs": [],
   "source": [
    "# model\n",
    "model = torch.nn.Sequential(linear1, sigmoid, linear2, sigmoid).to(device)"
   ]
  },
  {
   "cell_type": "code",
   "execution_count": 6,
   "id": "5aaa8767",
   "metadata": {},
   "outputs": [],
   "source": [
    "criterion = torch.nn.BCELoss().to(device)\n",
    "optimizer = torch.optim.SGD(model.parameters(), lr = 1)"
   ]
  },
  {
   "cell_type": "code",
   "execution_count": 7,
   "id": "7014ebab",
   "metadata": {},
   "outputs": [
    {
     "name": "stdout",
     "output_type": "stream",
     "text": [
      "0 0.7434073090553284\n",
      "100 0.693165123462677\n",
      "200 0.6931577920913696\n",
      "300 0.6931517124176025\n",
      "400 0.6931463479995728\n",
      "500 0.6931411027908325\n",
      "600 0.6931357383728027\n",
      "700 0.6931294798851013\n",
      "800 0.6931220293045044\n",
      "900 0.6931126117706299\n",
      "1000 0.6930999755859375\n",
      "1100 0.6930822730064392\n",
      "1200 0.6930569410324097\n",
      "1300 0.6930190324783325\n",
      "1400 0.6929606199264526\n",
      "1500 0.6928660273551941\n",
      "1600 0.6927032470703125\n",
      "1700 0.6923959255218506\n",
      "1800 0.6917300820350647\n",
      "1900 0.6899652481079102\n",
      "2000 0.6838312149047852\n",
      "2100 0.6561650037765503\n",
      "2200 0.4310865104198456\n",
      "2300 0.13488933444023132\n",
      "2400 0.06630323827266693\n",
      "2500 0.04216768220067024\n",
      "2600 0.03045358881354332\n",
      "2700 0.023665759712457657\n",
      "2800 0.019277628511190414\n",
      "2900 0.016223931685090065\n",
      "3000 0.013983718119561672\n",
      "3100 0.012273887172341347\n",
      "3200 0.010928073897957802\n",
      "3300 0.009842442348599434\n",
      "3400 0.008948973380029202\n",
      "3500 0.008201291784644127\n",
      "3600 0.0075667379423975945\n",
      "3700 0.007021641358733177\n",
      "3800 0.006548580713570118\n",
      "3900 0.006134208757430315\n",
      "4000 0.005768344737589359\n",
      "4100 0.0054430365562438965\n",
      "4200 0.005151890218257904\n",
      "4300 0.004889902658760548\n",
      "4400 0.0046528722159564495\n",
      "4500 0.004437457304447889\n",
      "4600 0.004240844398736954\n",
      "4700 0.004060687031596899\n",
      "4800 0.003895031288266182\n",
      "4900 0.0037421947345137596\n",
      "5000 0.0036007347516715527\n",
      "5100 0.003469479735940695\n",
      "5200 0.0033473046496510506\n",
      "5300 0.0032333829440176487\n",
      "5400 0.0031268750317394733\n",
      "5500 0.0030270610004663467\n",
      "5600 0.002933340147137642\n",
      "5700 0.0028452035039663315\n",
      "5800 0.002762140706181526\n",
      "5900 0.002683777129277587\n",
      "6000 0.0026096487417817116\n",
      "6100 0.0025394847616553307\n",
      "6200 0.0024729417636990547\n",
      "6300 0.0024097643326967955\n",
      "6400 0.0023497282527387142\n",
      "6500 0.0022925634402781725\n",
      "6600 0.002238075714558363\n",
      "6700 0.002186085097491741\n",
      "6800 0.0021364721469581127\n",
      "6900 0.002089011948555708\n",
      "7000 0.00204361486248672\n",
      "7100 0.0020001311786472797\n",
      "7200 0.001958396751433611\n",
      "7300 0.0019184107659384608\n",
      "7400 0.0018799942918121815\n",
      "7500 0.0018430722411721945\n",
      "7600 0.0018075549742206931\n",
      "7700 0.0017733527347445488\n",
      "7800 0.0017404207028448582\n",
      "7900 0.0017087137093767524\n",
      "8000 0.001678097527474165\n",
      "8100 0.0016485571395605803\n",
      "8200 0.001620002556592226\n",
      "8300 0.0015924491453915834\n",
      "8400 0.0015657918993383646\n",
      "8500 0.0015400308184325695\n",
      "8600 0.0015150614781305194\n",
      "8700 0.0014909137971699238\n",
      "8800 0.0014674977865070105\n",
      "8900 0.001444813678972423\n",
      "9000 0.0014228165382519364\n",
      "9100 0.0014014765620231628\n",
      "9200 0.0013806892093271017\n",
      "9300 0.0013606036081910133\n",
      "9400 0.0013410557294264436\n",
      "9500 0.001322030322626233\n",
      "9600 0.001303557539358735\n",
      "9700 0.001285637030377984\n",
      "9800 0.0012681199004873633\n",
      "9900 0.0012511102249845862\n",
      "10000 0.0012345188297331333\n"
     ]
    }
   ],
   "source": [
    "for step in range(10001):\n",
    "    optimizer.zero_grad()\n",
    "    hypothesis = model(X)\n",
    "    \n",
    "    cost = criterion(hypothesis, y)\n",
    "    cost.backward()\n",
    "    optimizer.step()\n",
    "    \n",
    "    if step % 100 == 0:\n",
    "        print(step, cost.item())"
   ]
  },
  {
   "cell_type": "code",
   "execution_count": 8,
   "id": "3be68559",
   "metadata": {},
   "outputs": [
    {
     "name": "stdout",
     "output_type": "stream",
     "text": [
      "\n",
      "Hypothesis :  [[0.00106364]\n",
      " [0.99889404]\n",
      " [0.99889404]\n",
      " [0.00165861]] \n",
      "Correct :  [[0.]\n",
      " [1.]\n",
      " [1.]\n",
      " [0.]] \n",
      "Accuracy :  1.0\n"
     ]
    }
   ],
   "source": [
    "# Accuracy computation\n",
    "with torch.no_grad():\n",
    "    hypothesis = model(X)\n",
    "    pred = (hypothesis > 0.5).float()\n",
    "    accuracy = (pred == y).float().mean()\n",
    "    print('\\nHypothesis : ', hypothesis.detach().cpu().numpy(), '\\nCorrect : ', pred.detach().cpu().numpy(), '\\nAccuracy : ', accuracy.item())"
   ]
  },
  {
   "cell_type": "markdown",
   "id": "e1296749",
   "metadata": {},
   "source": [
    "## XOR_nn_wide_deep"
   ]
  },
  {
   "cell_type": "code",
   "execution_count": 9,
   "id": "35033ab4",
   "metadata": {},
   "outputs": [],
   "source": [
    "X = torch.FloatTensor([[0, 0], [0, 1], [1, 0], [1, 1]]).to(device)\n",
    "y = torch.FloatTensor([[0], [1], [1], [0]]).to(device)"
   ]
  },
  {
   "cell_type": "code",
   "execution_count": 12,
   "id": "c0cd1400",
   "metadata": {},
   "outputs": [],
   "source": [
    "# nn layers\n",
    "linear1 = torch.nn.Linear(2, 10, bias = True)\n",
    "linear2 = torch.nn.Linear(10, 10, bias = True)\n",
    "linear3 = torch.nn.Linear(10, 10, bias = True)\n",
    "linear4 = torch.nn.Linear(10, 1, bias = True)\n",
    "sigmoid = torch.nn.Sigmoid()"
   ]
  },
  {
   "cell_type": "code",
   "execution_count": 13,
   "id": "4f5f9b9d",
   "metadata": {},
   "outputs": [],
   "source": [
    "# model\n",
    "model = torch.nn.Sequential(linear1, sigmoid, linear2, sigmoid, linear3, sigmoid, linear4, sigmoid).to(device)"
   ]
  },
  {
   "cell_type": "code",
   "execution_count": 14,
   "id": "09d496d4",
   "metadata": {},
   "outputs": [],
   "source": [
    "criterion = torch.nn.BCELoss().to(device)\n",
    "optimizer = torch.optim.SGD(model.parameters(), lr = 1)"
   ]
  },
  {
   "cell_type": "code",
   "execution_count": 15,
   "id": "7a83893d",
   "metadata": {},
   "outputs": [
    {
     "name": "stdout",
     "output_type": "stream",
     "text": [
      "0 0.6990118026733398\n",
      "100 0.6931530237197876\n",
      "200 0.6931522488594055\n",
      "300 0.6931514739990234\n",
      "400 0.6931506395339966\n",
      "500 0.693149983882904\n",
      "600 0.693149209022522\n",
      "700 0.6931484937667847\n",
      "800 0.6931477785110474\n",
      "900 0.6931469440460205\n",
      "1000 0.6931461691856384\n",
      "1100 0.6931453943252563\n",
      "1200 0.6931445598602295\n",
      "1300 0.6931437253952026\n",
      "1400 0.6931428909301758\n",
      "1500 0.6931421160697937\n",
      "1600 0.6931412220001221\n",
      "1700 0.6931402683258057\n",
      "1800 0.6931392550468445\n",
      "1900 0.6931382417678833\n",
      "2000 0.6931371688842773\n",
      "2100 0.6931360960006714\n",
      "2200 0.6931348443031311\n",
      "2300 0.6931335926055908\n",
      "2400 0.6931322813034058\n",
      "2500 0.6931307911872864\n",
      "2600 0.693129301071167\n",
      "2700 0.6931276321411133\n",
      "2800 0.6931259036064148\n",
      "2900 0.6931239366531372\n",
      "3000 0.6931218504905701\n",
      "3100 0.6931197047233582\n",
      "3200 0.6931171417236328\n",
      "3300 0.6931145191192627\n",
      "3400 0.6931114792823792\n",
      "3500 0.693108320236206\n",
      "3600 0.69310462474823\n",
      "3700 0.6931005716323853\n",
      "3800 0.6930960416793823\n",
      "3900 0.6930910348892212\n",
      "4000 0.6930853128433228\n",
      "4100 0.6930787563323975\n",
      "4200 0.6930713653564453\n",
      "4300 0.6930629014968872\n",
      "4400 0.6930530071258545\n",
      "4500 0.6930413842201233\n",
      "4600 0.6930277347564697\n",
      "4700 0.6930115222930908\n",
      "4800 0.6929918527603149\n",
      "4900 0.6929680109024048\n",
      "5000 0.6929383277893066\n",
      "5100 0.6929008960723877\n",
      "5200 0.6928526759147644\n",
      "5300 0.6927888989448547\n",
      "5400 0.6927021741867065\n",
      "5500 0.6925795078277588\n",
      "5600 0.6923975348472595\n",
      "5700 0.6921098232269287\n",
      "5800 0.6916136741638184\n",
      "5900 0.6906416416168213\n",
      "6000 0.6883095502853394\n",
      "6100 0.6802553534507751\n",
      "6200 0.6264207363128662\n",
      "6300 0.5201311111450195\n",
      "6400 0.022846467792987823\n",
      "6500 0.007776216138154268\n",
      "6600 0.004366635344922543\n",
      "6700 0.002955423900857568\n",
      "6800 0.0022033664863556623\n",
      "6900 0.0017422114033252\n",
      "7000 0.0014331635320559144\n",
      "7100 0.0012127349618822336\n",
      "7200 0.0010482377838343382\n",
      "7300 0.0009211325086653233\n",
      "7400 0.0008202331373468041\n",
      "7500 0.0007382836192846298\n",
      "7600 0.0006705222185701132\n",
      "7700 0.0006136058364063501\n",
      "7800 0.0005652213003486395\n",
      "7900 0.0005235336720943451\n",
      "8000 0.0004873640136793256\n",
      "8100 0.00045557887642644346\n",
      "8200 0.0004275664978194982\n",
      "8300 0.00040265574352815747\n",
      "8400 0.0003803393919952214\n",
      "8500 0.0003603043733164668\n",
      "8600 0.0003421480068936944\n",
      "8700 0.00032566150184720755\n",
      "8800 0.0003106360381934792\n",
      "8900 0.0002968778717331588\n",
      "9000 0.0002842377871274948\n",
      "9100 0.00027261144714429975\n",
      "9200 0.0002618050202727318\n",
      "9300 0.0002518334658816457\n",
      "9400 0.00024254759773612022\n",
      "9500 0.00023388784029521048\n",
      "9600 0.000225809431867674\n",
      "9700 0.00021825276780873537\n",
      "9800 0.00021117310097906739\n",
      "9900 0.00020448100985959172\n",
      "10000 0.00019820628222078085\n"
     ]
    }
   ],
   "source": [
    "for step in range(10001):\n",
    "    optimizer.zero_grad()\n",
    "    hypothesis = model(X)\n",
    "    \n",
    "    cost = criterion(hypothesis, y)\n",
    "    cost.backward()\n",
    "    optimizer.step()\n",
    "    \n",
    "    if step % 100 == 0:\n",
    "        print(step, cost.item())"
   ]
  },
  {
   "cell_type": "code",
   "execution_count": 16,
   "id": "8b84cf18",
   "metadata": {},
   "outputs": [
    {
     "name": "stdout",
     "output_type": "stream",
     "text": [
      "\n",
      "Hypothesis :  [[1.5254840e-04]\n",
      " [9.9984062e-01]\n",
      " [9.9979419e-01]\n",
      " [2.7489042e-04]] \n",
      "Correct :  [[0.]\n",
      " [1.]\n",
      " [1.]\n",
      " [0.]] \n",
      "Accuracy :  1.0\n"
     ]
    }
   ],
   "source": [
    "# Accuracy computation\n",
    "with torch.no_grad():\n",
    "    hypothesis = model(X)\n",
    "    pred = (hypothesis > 0.5).float()\n",
    "    accuracy = (pred == y).float().mean()\n",
    "    print('\\nHypothesis : ', hypothesis.detach().cpu().numpy(), '\\nCorrect : ', pred.detach().cpu().numpy(), '\\nAccuracy : ', accuracy.item())"
   ]
  },
  {
   "cell_type": "markdown",
   "id": "0104bf76",
   "metadata": {},
   "source": [
    "## MNIST_back_prop"
   ]
  },
  {
   "cell_type": "code",
   "execution_count": 18,
   "id": "fb039ec3",
   "metadata": {},
   "outputs": [],
   "source": [
    "import torchvision.datasets as dsets\n",
    "import torchvision.transforms as transforms"
   ]
  },
  {
   "cell_type": "code",
   "execution_count": 19,
   "id": "2d5a099f",
   "metadata": {},
   "outputs": [],
   "source": [
    "# parameters\n",
    "learning_rate = 0.5\n",
    "batch_size = 10"
   ]
  },
  {
   "cell_type": "code",
   "execution_count": 20,
   "id": "7b7c4989",
   "metadata": {},
   "outputs": [],
   "source": [
    "# MNIST dataset\n",
    "mnist_train = dsets.MNIST(root = 'MNIST_data/',\n",
    "                         train = True,\n",
    "                         transform = transforms.ToTensor(),\n",
    "                         download = True)\n",
    "mnist_test = dsets.MNIST(root = 'MNIST_data/',\n",
    "                        train = False,\n",
    "                        transform = transforms.ToTensor(),\n",
    "                        download = True)"
   ]
  },
  {
   "cell_type": "code",
   "execution_count": 21,
   "id": "a44b0a78",
   "metadata": {},
   "outputs": [],
   "source": [
    "# dataset loader\n",
    "data_loader = torch.utils.data.DataLoader(dataset = mnist_train,\n",
    "                                         batch_size = batch_size,\n",
    "                                         shuffle = True,\n",
    "                                         drop_last = True)"
   ]
  },
  {
   "cell_type": "code",
   "execution_count": 22,
   "id": "fd37d467",
   "metadata": {},
   "outputs": [],
   "source": [
    "w1 = torch.nn.Parameter(torch.Tensor(784, 30)).to(device)\n",
    "b1 = torch.nn.Parameter(torch.Tensor(30)).to(device)\n",
    "w2 = torch.nn.Parameter(torch.Tensor(30, 10)).to(device)\n",
    "b2 = torch.nn.Parameter(torch.Tensor(10)).to(device)"
   ]
  },
  {
   "cell_type": "code",
   "execution_count": 23,
   "id": "8bbbb584",
   "metadata": {},
   "outputs": [
    {
     "data": {
      "text/plain": [
       "Parameter containing:\n",
       "tensor([-0.0742, -0.3123, -0.4766,  0.4226,  0.4874, -0.3274, -0.3057,  1.3440,\n",
       "         1.5518, -0.4213], requires_grad=True)"
      ]
     },
     "execution_count": 23,
     "metadata": {},
     "output_type": "execute_result"
    }
   ],
   "source": [
    "torch.nn.init.normal_(w1)\n",
    "torch.nn.init.normal_(b1)\n",
    "torch.nn.init.normal_(w2)\n",
    "torch.nn.init.normal_(b2)"
   ]
  },
  {
   "cell_type": "code",
   "execution_count": 24,
   "id": "b98d448f",
   "metadata": {},
   "outputs": [],
   "source": [
    "def sigmoid(x):\n",
    "    return 1.0 / (1.0 + torch.exp(-x))"
   ]
  },
  {
   "cell_type": "code",
   "execution_count": 25,
   "id": "52aff38b",
   "metadata": {},
   "outputs": [],
   "source": [
    "def sigmoid_prime(x):\n",
    "    return sigmoid(x) * (1 - sigmoid(x))"
   ]
  },
  {
   "cell_type": "code",
   "execution_count": 26,
   "id": "f802fa02",
   "metadata": {},
   "outputs": [
    {
     "name": "stderr",
     "output_type": "stream",
     "text": [
      "C:\\Users\\seho\\anaconda3\\lib\\site-packages\\torchvision\\datasets\\mnist.py:60: UserWarning: test_data has been renamed data\n",
      "  warnings.warn(\"test_data has been renamed data\")\n",
      "C:\\Users\\seho\\anaconda3\\lib\\site-packages\\torchvision\\datasets\\mnist.py:50: UserWarning: test_labels has been renamed targets\n",
      "  warnings.warn(\"test_labels has been renamed targets\")\n"
     ]
    }
   ],
   "source": [
    "X_test = mnist_test.test_data.view(-1, 28 * 28).float().to(device)[:1000]\n",
    "y_test = mnist_test.test_labels.to(device)[:1000]\n",
    "i = 0"
   ]
  },
  {
   "cell_type": "code",
   "execution_count": 27,
   "id": "e08378fc",
   "metadata": {},
   "outputs": [
    {
     "name": "stdout",
     "output_type": "stream",
     "text": [
      "707\n",
      "784\n",
      "866\n",
      "870\n",
      "891\n",
      "890\n",
      "896\n",
      "894\n",
      "902\n",
      "907\n"
     ]
    }
   ],
   "source": [
    "while not i == 10000:\n",
    "    for X, y in data_loader:\n",
    "        i += 1\n",
    "        \n",
    "        # forward\n",
    "        X = X.view(-1, 28 * 28).to(device)\n",
    "        y = torch.zeros((batch_size, 10)).scatter_(1, y.unsqueeze(1), 1).to(device) # one-hot\n",
    "        l1 = torch.add(torch.matmul(X, w1), b1)\n",
    "        a1 = sigmoid(l1)\n",
    "        l2 = torch.add(torch.matmul(a1, w2), b2)\n",
    "        pred = sigmoid(l2)\n",
    "        \n",
    "        diff = pred - y\n",
    "        \n",
    "        # Back prop\n",
    "        d_l2 = diff * sigmoid_prime(l2)\n",
    "        d_b2 = d_l2\n",
    "        d_w2 = torch.matmul(torch.transpose(a1, 0, 1), d_l2)\n",
    "        \n",
    "        d_a1 = torch.matmul(d_l2, torch.transpose(w2, 0, 1))\n",
    "        d_l1 = d_a1 * sigmoid_prime(l1)\n",
    "        d_b1 = d_l1\n",
    "        d_w1 = torch.matmul(torch.transpose(X, 0, 1), d_l1)\n",
    "        \n",
    "        w1 = w1 - learning_rate * d_w1\n",
    "        b1 = b1 - learning_rate * torch.mean(d_b1, 0)\n",
    "        w2 = w2 - learning_rate * d_w2\n",
    "        b2 = b2 - learning_rate * torch.mean(d_b2, 0)\n",
    "        \n",
    "        if i % 1000 == 0:\n",
    "            l1 = torch.add(torch.matmul(X_test, w1), b1)\n",
    "            a1 = sigmoid(l1)\n",
    "            l2 = torch.add(torch.matmul(a1, w2), b2)\n",
    "            pred = sigmoid(l2)\n",
    "            acct_mat = torch.argmax(pred, 1) == y_test\n",
    "            acct_res = acct_mat.sum()\n",
    "            print(acct_res.item())\n",
    "            \n",
    "        if i == 10000:\n",
    "            break"
   ]
  },
  {
   "cell_type": "code",
   "execution_count": null,
   "id": "2473502d",
   "metadata": {},
   "outputs": [],
   "source": []
  }
 ],
 "metadata": {
  "kernelspec": {
   "display_name": "Python 3",
   "language": "python",
   "name": "python3"
  },
  "language_info": {
   "codemirror_mode": {
    "name": "ipython",
    "version": 3
   },
   "file_extension": ".py",
   "mimetype": "text/x-python",
   "name": "python",
   "nbconvert_exporter": "python",
   "pygments_lexer": "ipython3",
   "version": "3.8.8"
  },
  "toc": {
   "base_numbering": 1,
   "nav_menu": {},
   "number_sections": true,
   "sideBar": true,
   "skip_h1_title": false,
   "title_cell": "Table of Contents",
   "title_sidebar": "Contents",
   "toc_cell": false,
   "toc_position": {},
   "toc_section_display": true,
   "toc_window_display": false
  }
 },
 "nbformat": 4,
 "nbformat_minor": 5
}
