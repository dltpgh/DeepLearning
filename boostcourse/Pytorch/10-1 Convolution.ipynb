{
 "cells": [
  {
   "cell_type": "code",
   "execution_count": 1,
   "id": "86cb6bcf",
   "metadata": {},
   "outputs": [],
   "source": [
    "import torch\n",
    "import torch.nn as nn"
   ]
  },
  {
   "cell_type": "code",
   "execution_count": 2,
   "id": "7221631f",
   "metadata": {},
   "outputs": [
    {
     "data": {
      "text/plain": [
       "Conv2d(1, 1, kernel_size=(11, 11), stride=(4, 4))"
      ]
     },
     "execution_count": 2,
     "metadata": {},
     "output_type": "execute_result"
    }
   ],
   "source": [
    "## 1\n",
    "\n",
    "conv = nn.Conv2d(1, 1, 11, stride = 4, padding = 0)\n",
    "conv"
   ]
  },
  {
   "cell_type": "code",
   "execution_count": 5,
   "id": "8b634964",
   "metadata": {},
   "outputs": [],
   "source": [
    "inputs = torch.Tensor(1, 1, 227, 227)"
   ]
  },
  {
   "cell_type": "code",
   "execution_count": 6,
   "id": "22763658",
   "metadata": {},
   "outputs": [
    {
     "data": {
      "text/plain": [
       "torch.Size([1, 1, 227, 227])"
      ]
     },
     "execution_count": 6,
     "metadata": {},
     "output_type": "execute_result"
    }
   ],
   "source": [
    "inputs.shape"
   ]
  },
  {
   "cell_type": "code",
   "execution_count": 7,
   "id": "3b5a54a7",
   "metadata": {},
   "outputs": [],
   "source": [
    "out = conv(inputs)"
   ]
  },
  {
   "cell_type": "code",
   "execution_count": 8,
   "id": "c656b676",
   "metadata": {},
   "outputs": [
    {
     "data": {
      "text/plain": [
       "torch.Size([1, 1, 55, 55])"
      ]
     },
     "execution_count": 8,
     "metadata": {},
     "output_type": "execute_result"
    }
   ],
   "source": [
    "out.shape"
   ]
  },
  {
   "cell_type": "code",
   "execution_count": 9,
   "id": "bba9fe38",
   "metadata": {},
   "outputs": [],
   "source": [
    "## 2\n",
    "conv = nn.Conv2d(1, 1, 7, stride = 2, padding = 0)"
   ]
  },
  {
   "cell_type": "code",
   "execution_count": 10,
   "id": "57e39c49",
   "metadata": {},
   "outputs": [],
   "source": [
    "inputs = torch.Tensor(1, 1, 64, 64)"
   ]
  },
  {
   "cell_type": "code",
   "execution_count": 11,
   "id": "d7259299",
   "metadata": {},
   "outputs": [],
   "source": [
    "out = conv(inputs)"
   ]
  },
  {
   "cell_type": "code",
   "execution_count": 12,
   "id": "5188384e",
   "metadata": {},
   "outputs": [
    {
     "data": {
      "text/plain": [
       "torch.Size([1, 1, 29, 29])"
      ]
     },
     "execution_count": 12,
     "metadata": {},
     "output_type": "execute_result"
    }
   ],
   "source": [
    "out.shape"
   ]
  },
  {
   "cell_type": "code",
   "execution_count": 13,
   "id": "c6d90adc",
   "metadata": {},
   "outputs": [],
   "source": [
    "## 3\n",
    "conv = nn.Conv2d(1, 1, 5, stride = 1, padding = 2)"
   ]
  },
  {
   "cell_type": "code",
   "execution_count": 14,
   "id": "aed7a5a8",
   "metadata": {},
   "outputs": [],
   "source": [
    "inputs = torch.Tensor(1, 1, 32, 32)"
   ]
  },
  {
   "cell_type": "code",
   "execution_count": 15,
   "id": "b1cf7612",
   "metadata": {},
   "outputs": [],
   "source": [
    "out = conv(inputs)"
   ]
  },
  {
   "cell_type": "code",
   "execution_count": 16,
   "id": "9ad3f721",
   "metadata": {},
   "outputs": [
    {
     "data": {
      "text/plain": [
       "torch.Size([1, 1, 32, 32])"
      ]
     },
     "execution_count": 16,
     "metadata": {},
     "output_type": "execute_result"
    }
   ],
   "source": [
    "out.shape"
   ]
  },
  {
   "cell_type": "code",
   "execution_count": 17,
   "id": "f0164cad",
   "metadata": {},
   "outputs": [],
   "source": [
    "## 4\n",
    "inputs = torch.Tensor(1, 1, 32, 64)"
   ]
  },
  {
   "cell_type": "code",
   "execution_count": 18,
   "id": "fef66c51",
   "metadata": {},
   "outputs": [],
   "source": [
    "conv = nn.Conv2d(1, 1, 5)\n",
    "out = conv(inputs)"
   ]
  },
  {
   "cell_type": "code",
   "execution_count": 19,
   "id": "31a81557",
   "metadata": {},
   "outputs": [
    {
     "data": {
      "text/plain": [
       "torch.Size([1, 1, 28, 60])"
      ]
     },
     "execution_count": 19,
     "metadata": {},
     "output_type": "execute_result"
    }
   ],
   "source": [
    "out.shape"
   ]
  },
  {
   "cell_type": "code",
   "execution_count": 20,
   "id": "2d6156f9",
   "metadata": {},
   "outputs": [],
   "source": [
    "## 5\n",
    "inputs = torch.Tensor(1, 1, 64, 32)"
   ]
  },
  {
   "cell_type": "code",
   "execution_count": 21,
   "id": "5ebffd23",
   "metadata": {},
   "outputs": [],
   "source": [
    "conv = nn.Conv2d(1, 1, 3, padding = 1)"
   ]
  },
  {
   "cell_type": "code",
   "execution_count": 22,
   "id": "87533d36",
   "metadata": {},
   "outputs": [],
   "source": [
    "out = conv(inputs)"
   ]
  },
  {
   "cell_type": "code",
   "execution_count": 23,
   "id": "a52e5350",
   "metadata": {},
   "outputs": [
    {
     "data": {
      "text/plain": [
       "torch.Size([1, 1, 64, 32])"
      ]
     },
     "execution_count": 23,
     "metadata": {},
     "output_type": "execute_result"
    }
   ],
   "source": [
    "out.shape"
   ]
  },
  {
   "cell_type": "markdown",
   "id": "a0d61446",
   "metadata": {},
   "source": [
    "### CNN implementation"
   ]
  },
  {
   "cell_type": "code",
   "execution_count": 24,
   "id": "ff9fbfac",
   "metadata": {},
   "outputs": [],
   "source": [
    "inputs = torch.Tensor(1, 1, 28, 28)\n",
    "conv1 = nn.Conv2d(1, 5, 5)\n",
    "pool = nn.MaxPool2d(2)"
   ]
  },
  {
   "cell_type": "code",
   "execution_count": 25,
   "id": "921a0ac9",
   "metadata": {},
   "outputs": [],
   "source": [
    "out = conv1(inputs)\n",
    "out2 = pool(out)"
   ]
  },
  {
   "cell_type": "code",
   "execution_count": 26,
   "id": "7f0daca0",
   "metadata": {},
   "outputs": [
    {
     "name": "stdout",
     "output_type": "stream",
     "text": [
      "torch.Size([1, 5, 24, 24])\n",
      "torch.Size([1, 5, 12, 12])\n"
     ]
    }
   ],
   "source": [
    "print(out.size())\n",
    "print(out2.size())"
   ]
  },
  {
   "cell_type": "code",
   "execution_count": null,
   "id": "559b66e9",
   "metadata": {},
   "outputs": [],
   "source": []
  }
 ],
 "metadata": {
  "kernelspec": {
   "display_name": "Python 3",
   "language": "python",
   "name": "python3"
  },
  "language_info": {
   "codemirror_mode": {
    "name": "ipython",
    "version": 3
   },
   "file_extension": ".py",
   "mimetype": "text/x-python",
   "name": "python",
   "nbconvert_exporter": "python",
   "pygments_lexer": "ipython3",
   "version": "3.8.8"
  },
  "toc": {
   "base_numbering": 1,
   "nav_menu": {},
   "number_sections": true,
   "sideBar": true,
   "skip_h1_title": false,
   "title_cell": "Table of Contents",
   "title_sidebar": "Contents",
   "toc_cell": false,
   "toc_position": {},
   "toc_section_display": true,
   "toc_window_display": false
  }
 },
 "nbformat": 4,
 "nbformat_minor": 5
}
