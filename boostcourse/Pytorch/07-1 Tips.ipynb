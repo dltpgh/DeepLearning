{
 "cells": [
  {
   "cell_type": "markdown",
   "id": "2ac9a10f",
   "metadata": {},
   "source": [
    "## Tips"
   ]
  },
  {
   "cell_type": "code",
   "execution_count": 1,
   "id": "062750b8",
   "metadata": {},
   "outputs": [],
   "source": [
    "import torch\n",
    "import torch.nn as nn\n",
    "import torch.nn.functional as F\n",
    "import torch.optim as optim"
   ]
  },
  {
   "cell_type": "code",
   "execution_count": 2,
   "id": "97f3baae",
   "metadata": {},
   "outputs": [
    {
     "data": {
      "text/plain": [
       "<torch._C.Generator at 0x172263db210>"
      ]
     },
     "execution_count": 2,
     "metadata": {},
     "output_type": "execute_result"
    }
   ],
   "source": [
    "torch.manual_seed(1)"
   ]
  },
  {
   "cell_type": "markdown",
   "id": "9cd92da5",
   "metadata": {},
   "source": [
    "### Training and Test Datasets"
   ]
  },
  {
   "cell_type": "code",
   "execution_count": 3,
   "id": "c16c6f0b",
   "metadata": {},
   "outputs": [],
   "source": [
    "X_train = torch.FloatTensor([[1, 2, 1],\n",
    "                             [1, 3, 2],\n",
    "                             [1, 3, 4],\n",
    "                             [1, 5, 5],\n",
    "                             [1, 7, 5],\n",
    "                             [1, 2, 5],\n",
    "                             [1, 6, 6],\n",
    "                             [1, 7, 7]\n",
    "                            ])\n",
    "y_train = torch.LongTensor([2, 2, 2, 1, 1, 1, 0, 0])"
   ]
  },
  {
   "cell_type": "code",
   "execution_count": 11,
   "id": "e237ca47",
   "metadata": {},
   "outputs": [],
   "source": [
    "X_test = torch.FloatTensor([[2, 1, 1], [3, 1, 2], [3, 3, 4]])\n",
    "y_test = torch.LongTensor([2, 2, 2])"
   ]
  },
  {
   "cell_type": "markdown",
   "id": "7a4303eb",
   "metadata": {},
   "source": [
    "### Model"
   ]
  },
  {
   "cell_type": "code",
   "execution_count": 4,
   "id": "f173e1c3",
   "metadata": {},
   "outputs": [],
   "source": [
    "class SoftmaxClassifierModel(nn.Module):\n",
    "    def __init__(self):\n",
    "        super().__init__()\n",
    "        self.linear = nn.Linear(3, 3)\n",
    "    \n",
    "    def forward(self, x):\n",
    "        return self.linear(x)"
   ]
  },
  {
   "cell_type": "code",
   "execution_count": 5,
   "id": "f9b585e7",
   "metadata": {},
   "outputs": [],
   "source": [
    "model = SoftmaxClassifierModel()"
   ]
  },
  {
   "cell_type": "code",
   "execution_count": 6,
   "id": "dd096b50",
   "metadata": {},
   "outputs": [],
   "source": [
    "# optimizer 설정\n",
    "optimizer = optim.SGD(model.parameters(), lr = 0.1)"
   ]
  },
  {
   "cell_type": "code",
   "execution_count": 7,
   "id": "bfe97f2f",
   "metadata": {},
   "outputs": [],
   "source": [
    "def train(model, optimizer, X_train, y_train):\n",
    "    nb_epochs = 20\n",
    "    for epoch in range(nb_epochs):\n",
    "        \n",
    "        # H(x) 계산\n",
    "        pred = model(X_train)\n",
    "        \n",
    "        # cost 계산\n",
    "        cost = F.cross_entropy(pred, y_train)\n",
    "        \n",
    "        # cost로 H(x) 개선\n",
    "        optimizer.zero_grad()\n",
    "        cost.backward()\n",
    "        optimizer.step()\n",
    "        \n",
    "        print('Epoch {:4d}/{} Cost : {:.6f}'.format(\n",
    "            epoch, nb_epochs, cost.item()\n",
    "        ))"
   ]
  },
  {
   "cell_type": "code",
   "execution_count": 8,
   "id": "788e84bb",
   "metadata": {},
   "outputs": [],
   "source": [
    "def test(model, optimizer, X_test, y_test):\n",
    "    pred = model(X_test)\n",
    "    pred_classes = pred.max(1)[1]\n",
    "    correct_count = (pred_classes == y_test).sum().item()\n",
    "    cost = F.cross_entropy(pred, y_test)\n",
    "    \n",
    "    print('Accuracy : {} % Cost : {:.6f}'.format(\n",
    "        correct_count / len(y_test) * 100, cost.item()\n",
    "    ))"
   ]
  },
  {
   "cell_type": "code",
   "execution_count": 9,
   "id": "5c0ea191",
   "metadata": {},
   "outputs": [
    {
     "name": "stdout",
     "output_type": "stream",
     "text": [
      "Epoch    0/20 Cost : 2.203667\n",
      "Epoch    1/20 Cost : 1.199645\n",
      "Epoch    2/20 Cost : 1.142985\n",
      "Epoch    3/20 Cost : 1.117769\n",
      "Epoch    4/20 Cost : 1.100901\n",
      "Epoch    5/20 Cost : 1.089523\n",
      "Epoch    6/20 Cost : 1.079872\n",
      "Epoch    7/20 Cost : 1.071320\n",
      "Epoch    8/20 Cost : 1.063325\n",
      "Epoch    9/20 Cost : 1.055720\n",
      "Epoch   10/20 Cost : 1.048378\n",
      "Epoch   11/20 Cost : 1.041245\n",
      "Epoch   12/20 Cost : 1.034285\n",
      "Epoch   13/20 Cost : 1.027478\n",
      "Epoch   14/20 Cost : 1.020813\n",
      "Epoch   15/20 Cost : 1.014279\n",
      "Epoch   16/20 Cost : 1.007872\n",
      "Epoch   17/20 Cost : 1.001586\n",
      "Epoch   18/20 Cost : 0.995419\n",
      "Epoch   19/20 Cost : 0.989365\n"
     ]
    }
   ],
   "source": [
    "train(model, optimizer, X_train, y_train)"
   ]
  },
  {
   "cell_type": "code",
   "execution_count": 12,
   "id": "c6d2c2e5",
   "metadata": {},
   "outputs": [
    {
     "name": "stdout",
     "output_type": "stream",
     "text": [
      "Accuracy : 0.0 % Cost : 1.425844\n"
     ]
    }
   ],
   "source": [
    "test(model, optimizer, X_test, y_test)"
   ]
  },
  {
   "cell_type": "markdown",
   "id": "cffbbad4",
   "metadata": {},
   "source": [
    "### Learning Rate"
   ]
  },
  {
   "cell_type": "markdown",
   "id": "5fc1a6fc",
   "metadata": {},
   "source": [
    "Gradient Descent 에서의 $\\alpha$ 값"
   ]
  },
  {
   "cell_type": "markdown",
   "id": "94ab5a1d",
   "metadata": {},
   "source": [
    "`optimizer = optim.SGD(model.parameters(), lr=0.1)` 에서 `lr=0.1` 이다"
   ]
  },
  {
   "cell_type": "markdown",
   "id": "0be14b7e",
   "metadata": {},
   "source": [
    "learning rate이 너무 크면 diverge 하면서 cost 가 점점 늘어난다 (overshooting)."
   ]
  },
  {
   "cell_type": "code",
   "execution_count": 13,
   "id": "e2de7803",
   "metadata": {},
   "outputs": [],
   "source": [
    "model = SoftmaxClassifierModel()"
   ]
  },
  {
   "cell_type": "code",
   "execution_count": 16,
   "id": "e9f0ff2b",
   "metadata": {},
   "outputs": [],
   "source": [
    "optimizer = optim.SGD(model.parameters(), lr = 1e5)"
   ]
  },
  {
   "cell_type": "code",
   "execution_count": 17,
   "id": "60ae54b0",
   "metadata": {},
   "outputs": [
    {
     "name": "stdout",
     "output_type": "stream",
     "text": [
      "Epoch    0/20 Cost : 1.279335\n",
      "Epoch    1/20 Cost : 976085.625000\n",
      "Epoch    2/20 Cost : 1279027.375000\n",
      "Epoch    3/20 Cost : 1200004.125000\n",
      "Epoch    4/20 Cost : 1097960.625000\n",
      "Epoch    5/20 Cost : 1968090.000000\n",
      "Epoch    6/20 Cost : 283898.156250\n",
      "Epoch    7/20 Cost : 1532152.250000\n",
      "Epoch    8/20 Cost : 1653129.125000\n",
      "Epoch    9/20 Cost : 521645.437500\n",
      "Epoch   10/20 Cost : 1396398.125000\n",
      "Epoch   11/20 Cost : 750959.375000\n",
      "Epoch   12/20 Cost : 920316.625000\n",
      "Epoch   13/20 Cost : 1487023.125000\n",
      "Epoch   14/20 Cost : 1582152.375000\n",
      "Epoch   15/20 Cost : 685068.687500\n",
      "Epoch   16/20 Cost : 1140021.875000\n",
      "Epoch   17/20 Cost : 942191.625000\n",
      "Epoch   18/20 Cost : 930773.125000\n",
      "Epoch   19/20 Cost : 1971214.875000\n"
     ]
    }
   ],
   "source": [
    "train(model, optimizer, X_train, y_train)"
   ]
  },
  {
   "cell_type": "markdown",
   "id": "f03e2e0a",
   "metadata": {},
   "source": [
    "learning_rate이 너무 작으면 cost가 거의 줄어들지 않는다."
   ]
  },
  {
   "cell_type": "code",
   "execution_count": 18,
   "id": "fcf7c00c",
   "metadata": {},
   "outputs": [],
   "source": [
    "model = SoftmaxClassifierModel()"
   ]
  },
  {
   "cell_type": "code",
   "execution_count": 19,
   "id": "951bf31d",
   "metadata": {},
   "outputs": [],
   "source": [
    "optimizer = optim.SGD(model.parameters(), lr = 1e-10)"
   ]
  },
  {
   "cell_type": "code",
   "execution_count": 20,
   "id": "80ab8a5d",
   "metadata": {},
   "outputs": [
    {
     "name": "stdout",
     "output_type": "stream",
     "text": [
      "Epoch    0/20 Cost : 3.187324\n",
      "Epoch    1/20 Cost : 3.187324\n",
      "Epoch    2/20 Cost : 3.187324\n",
      "Epoch    3/20 Cost : 3.187324\n",
      "Epoch    4/20 Cost : 3.187324\n",
      "Epoch    5/20 Cost : 3.187324\n",
      "Epoch    6/20 Cost : 3.187324\n",
      "Epoch    7/20 Cost : 3.187324\n",
      "Epoch    8/20 Cost : 3.187324\n",
      "Epoch    9/20 Cost : 3.187324\n",
      "Epoch   10/20 Cost : 3.187324\n",
      "Epoch   11/20 Cost : 3.187324\n",
      "Epoch   12/20 Cost : 3.187324\n",
      "Epoch   13/20 Cost : 3.187324\n",
      "Epoch   14/20 Cost : 3.187324\n",
      "Epoch   15/20 Cost : 3.187324\n",
      "Epoch   16/20 Cost : 3.187324\n",
      "Epoch   17/20 Cost : 3.187324\n",
      "Epoch   18/20 Cost : 3.187324\n",
      "Epoch   19/20 Cost : 3.187324\n"
     ]
    }
   ],
   "source": [
    "train(model, optimizer, X_train, y_train)"
   ]
  },
  {
   "cell_type": "markdown",
   "id": "e9e8bc3f",
   "metadata": {},
   "source": [
    "적절한 숫자로 시작해 발산하면 작게, cost가 줄어들지 않으면 크게 조정하자."
   ]
  },
  {
   "cell_type": "code",
   "execution_count": 21,
   "id": "aad2af46",
   "metadata": {},
   "outputs": [],
   "source": [
    "model = SoftmaxClassifierModel()"
   ]
  },
  {
   "cell_type": "code",
   "execution_count": 22,
   "id": "6ae03e80",
   "metadata": {},
   "outputs": [],
   "source": [
    "optimizer = optim.SGD(model.parameters(), lr = 1e-1)"
   ]
  },
  {
   "cell_type": "code",
   "execution_count": 23,
   "id": "a9a4bc58",
   "metadata": {},
   "outputs": [
    {
     "name": "stdout",
     "output_type": "stream",
     "text": [
      "Epoch    0/20 Cost : 1.341574\n",
      "Epoch    1/20 Cost : 1.198802\n",
      "Epoch    2/20 Cost : 1.150877\n",
      "Epoch    3/20 Cost : 1.131977\n",
      "Epoch    4/20 Cost : 1.116242\n",
      "Epoch    5/20 Cost : 1.102514\n",
      "Epoch    6/20 Cost : 1.089676\n",
      "Epoch    7/20 Cost : 1.077479\n",
      "Epoch    8/20 Cost : 1.065775\n",
      "Epoch    9/20 Cost : 1.054511\n",
      "Epoch   10/20 Cost : 1.043655\n",
      "Epoch   11/20 Cost : 1.033187\n",
      "Epoch   12/20 Cost : 1.023091\n",
      "Epoch   13/20 Cost : 1.013356\n",
      "Epoch   14/20 Cost : 1.003968\n",
      "Epoch   15/20 Cost : 0.994917\n",
      "Epoch   16/20 Cost : 0.986189\n",
      "Epoch   17/20 Cost : 0.977775\n",
      "Epoch   18/20 Cost : 0.969661\n",
      "Epoch   19/20 Cost : 0.961836\n"
     ]
    }
   ],
   "source": [
    "train(model, optimizer, X_train, y_train)"
   ]
  },
  {
   "cell_type": "markdown",
   "id": "64d51982",
   "metadata": {},
   "source": [
    "### Data Preprocessing (데이터 전처리)"
   ]
  },
  {
   "cell_type": "markdown",
   "id": "c22df570",
   "metadata": {},
   "source": [
    "데이터를 zero-center하고 normalize 하자."
   ]
  },
  {
   "cell_type": "code",
   "execution_count": 24,
   "id": "baec5646",
   "metadata": {},
   "outputs": [],
   "source": [
    "X_train = torch.FloatTensor([[73, 80, 75],\n",
    "                             [93, 88, 93],\n",
    "                             [89, 91, 90],\n",
    "                             [96, 98, 100],\n",
    "                             [73, 66, 70]])\n",
    "y_train = torch.FloatTensor([[152], [185], [180], [196], [142]])"
   ]
  },
  {
   "cell_type": "markdown",
   "id": "739b5759",
   "metadata": {},
   "source": [
    "$$ x'_j = \\frac{x_j - \\mu_j}{\\sigma_j} $$"
   ]
  },
  {
   "cell_type": "markdown",
   "id": "1306f6a3",
   "metadata": {},
   "source": [
    "여기서 $\\sigma$ 는 standard deviation, $\\mu$ 는 평균값 이다."
   ]
  },
  {
   "cell_type": "code",
   "execution_count": 25,
   "id": "ee62020e",
   "metadata": {},
   "outputs": [],
   "source": [
    "mu = X_train.mean(dim = 0)"
   ]
  },
  {
   "cell_type": "code",
   "execution_count": 26,
   "id": "8591c656",
   "metadata": {},
   "outputs": [],
   "source": [
    "sigma = X_train.std(dim = 0)"
   ]
  },
  {
   "cell_type": "code",
   "execution_count": 27,
   "id": "e1526ca0",
   "metadata": {},
   "outputs": [],
   "source": [
    "norm_X_train = (X_train - mu) / sigma"
   ]
  },
  {
   "cell_type": "code",
   "execution_count": 28,
   "id": "dab29173",
   "metadata": {},
   "outputs": [
    {
     "name": "stdout",
     "output_type": "stream",
     "text": [
      "tensor([[-1.0674, -0.3758, -0.8398],\n",
      "        [ 0.7418,  0.2778,  0.5863],\n",
      "        [ 0.3799,  0.5229,  0.3486],\n",
      "        [ 1.0132,  1.0948,  1.1409],\n",
      "        [-1.0674, -1.5197, -1.2360]])\n"
     ]
    }
   ],
   "source": [
    "print(norm_X_train)"
   ]
  },
  {
   "cell_type": "markdown",
   "id": "48861a0a",
   "metadata": {},
   "source": [
    "Normalize와 zero center한 X로 학습해서 성능을 보자"
   ]
  },
  {
   "cell_type": "code",
   "execution_count": 29,
   "id": "b1303a6b",
   "metadata": {},
   "outputs": [],
   "source": [
    "class MultivariateLinearRegressionModel(nn.Module):\n",
    "    def __init__(self):\n",
    "        super().__init__()\n",
    "        self.linear = nn.Linear(3, 1)\n",
    "        \n",
    "    def forward(self, x):\n",
    "        return self.linear(x)"
   ]
  },
  {
   "cell_type": "code",
   "execution_count": 30,
   "id": "23849a45",
   "metadata": {},
   "outputs": [],
   "source": [
    "model = MultivariateLinearRegressionModel()"
   ]
  },
  {
   "cell_type": "code",
   "execution_count": 31,
   "id": "f22ee85d",
   "metadata": {},
   "outputs": [],
   "source": [
    "optimizer = optim.SGD(model.parameters(), lr = 1e-1)"
   ]
  },
  {
   "cell_type": "code",
   "execution_count": 32,
   "id": "e990a31c",
   "metadata": {},
   "outputs": [],
   "source": [
    "def train(model, optimizer, X_train, y_train):\n",
    "    nb_epochs = 20\n",
    "    for epoch in range(nb_epochs):\n",
    "        \n",
    "        # H(x) 계산\n",
    "        pred = model(X_train)\n",
    "        \n",
    "        # cost 계산\n",
    "        cost = F.mse_loss(pred, y_train)\n",
    "        \n",
    "        # cost로 H(x) 개선\n",
    "        optimizer.zero_grad()\n",
    "        cost.backward()\n",
    "        optimizer.step()\n",
    "        \n",
    "        print('Epoch {:4d}/{} Cost {:.6f}'.format(\n",
    "            epoch, nb_epochs, cost.item()\n",
    "        ))"
   ]
  },
  {
   "cell_type": "code",
   "execution_count": 33,
   "id": "78e0ab4b",
   "metadata": {},
   "outputs": [
    {
     "name": "stdout",
     "output_type": "stream",
     "text": [
      "Epoch    0/20 Cost 29785.089844\n",
      "Epoch    1/20 Cost 18906.164062\n",
      "Epoch    2/20 Cost 12054.673828\n",
      "Epoch    3/20 Cost 7702.029785\n",
      "Epoch    4/20 Cost 4925.733398\n",
      "Epoch    5/20 Cost 3151.632812\n",
      "Epoch    6/20 Cost 2016.996094\n",
      "Epoch    7/20 Cost 1291.051270\n",
      "Epoch    8/20 Cost 826.505249\n",
      "Epoch    9/20 Cost 529.207397\n",
      "Epoch   10/20 Cost 338.934204\n",
      "Epoch   11/20 Cost 217.153564\n",
      "Epoch   12/20 Cost 139.206757\n",
      "Epoch   13/20 Cost 89.313782\n",
      "Epoch   14/20 Cost 57.375465\n",
      "Epoch   15/20 Cost 36.928429\n",
      "Epoch   16/20 Cost 23.835773\n",
      "Epoch   17/20 Cost 15.450401\n",
      "Epoch   18/20 Cost 10.077809\n",
      "Epoch   19/20 Cost 6.633700\n"
     ]
    }
   ],
   "source": [
    "train(model, optimizer, norm_X_train, y_train)"
   ]
  },
  {
   "cell_type": "markdown",
   "id": "d675b3e5",
   "metadata": {},
   "source": [
    "### Overfitting"
   ]
  },
  {
   "cell_type": "markdown",
   "id": "6b60c41b",
   "metadata": {},
   "source": [
    "너무 학습 데이터에 한해 잘 학습해 테스트 데이터에 좋은 성능을 내지 못할 수도 있다.\n",
    "\n",
    "Overfitting을 방지하는 방법\n",
    "1. 더 많은 학습 데이터\n",
    "2. 더 적은 양의 feature\n",
    "3. **Regularization**"
   ]
  },
  {
   "cell_type": "code",
   "execution_count": 38,
   "id": "74881ba0",
   "metadata": {},
   "outputs": [],
   "source": [
    "def train_with_regularization(model, optimizer, X_train, y_train):\n",
    "    nb_epochs = 20\n",
    "    for epoch in range(nb_epochs):\n",
    "        \n",
    "        # H(x) 계산\n",
    "        pred = model(X_train)\n",
    "        \n",
    "        # cost 계산\n",
    "        cost = F.mse_loss(pred, y_train)\n",
    "        \n",
    "        # l2 norm 계산\n",
    "        l2_reg = 0\n",
    "        for param in model.parameters():\n",
    "            l2_reg += torch.norm(param)\n",
    "            \n",
    "        cost += l2_reg\n",
    "        \n",
    "        # cost로 H(x) 개선\n",
    "        optimizer.zero_grad()\n",
    "        cost.backward()\n",
    "        optimizer.step()\n",
    "        \n",
    "        print('Epoch : {:4d}/{} Cost : {:.6f}'.format(\n",
    "            epoch + 1, nb_epochs, cost.item()\n",
    "        ))"
   ]
  },
  {
   "cell_type": "code",
   "execution_count": 39,
   "id": "eb1d7bac",
   "metadata": {},
   "outputs": [],
   "source": [
    "model = MultivariateLinearRegressionModel()"
   ]
  },
  {
   "cell_type": "code",
   "execution_count": 40,
   "id": "268a5716",
   "metadata": {},
   "outputs": [],
   "source": [
    "optimizer = optim.SGD(model.parameters(), lr = 1e-1)"
   ]
  },
  {
   "cell_type": "code",
   "execution_count": 41,
   "id": "a9638a9a",
   "metadata": {},
   "outputs": [
    {
     "name": "stdout",
     "output_type": "stream",
     "text": [
      "Epoch :    1/20 Cost : 29602.789062\n",
      "Epoch :    2/20 Cost : 18866.142578\n",
      "Epoch :    3/20 Cost : 12100.623047\n",
      "Epoch :    4/20 Cost : 7799.223633\n",
      "Epoch :    5/20 Cost : 5054.625488\n",
      "Epoch :    6/20 Cost : 3300.494385\n",
      "Epoch :    7/20 Cost : 2178.548828\n",
      "Epoch :    8/20 Cost : 1460.702148\n",
      "Epoch :    9/20 Cost : 1001.335327\n",
      "Epoch :   10/20 Cost : 707.352661\n",
      "Epoch :   11/20 Cost : 519.203857\n",
      "Epoch :   12/20 Cost : 398.785736\n",
      "Epoch :   13/20 Cost : 321.714294\n",
      "Epoch :   14/20 Cost : 272.384827\n",
      "Epoch :   15/20 Cost : 240.810089\n",
      "Epoch :   16/20 Cost : 220.598663\n",
      "Epoch :   17/20 Cost : 207.659821\n",
      "Epoch :   18/20 Cost : 199.375748\n",
      "Epoch :   19/20 Cost : 194.070847\n",
      "Epoch :   20/20 Cost : 190.672821\n"
     ]
    }
   ],
   "source": [
    "train_with_regularization(model, optimizer, norm_X_train, y_train)"
   ]
  },
  {
   "cell_type": "code",
   "execution_count": null,
   "id": "8a1b8a84",
   "metadata": {},
   "outputs": [],
   "source": []
  }
 ],
 "metadata": {
  "kernelspec": {
   "display_name": "Python 3",
   "language": "python",
   "name": "python3"
  },
  "language_info": {
   "codemirror_mode": {
    "name": "ipython",
    "version": 3
   },
   "file_extension": ".py",
   "mimetype": "text/x-python",
   "name": "python",
   "nbconvert_exporter": "python",
   "pygments_lexer": "ipython3",
   "version": "3.8.8"
  },
  "toc": {
   "base_numbering": 1,
   "nav_menu": {},
   "number_sections": true,
   "sideBar": true,
   "skip_h1_title": false,
   "title_cell": "Table of Contents",
   "title_sidebar": "Contents",
   "toc_cell": false,
   "toc_position": {},
   "toc_section_display": true,
   "toc_window_display": false
  }
 },
 "nbformat": 4,
 "nbformat_minor": 5
}
